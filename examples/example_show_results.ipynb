{
 "cells": [
  {
   "cell_type": "code",
   "execution_count": 1,
   "id": "da78f785",
   "metadata": {},
   "outputs": [],
   "source": [
    "import tables as tb\n",
    "import pandas as pd\n",
    "import numpy as np\n",
    "\n",
    "import invisible_cities.io.dst_io as dio\n",
    "\n",
    "from utils.plotting_utils import plot_cloud_voxels, plot_cloud_voxels_and_hits, plot_3d_hits"
   ]
  },
  {
   "cell_type": "code",
   "execution_count": 2,
   "id": "2b6ef5c7",
   "metadata": {},
   "outputs": [],
   "source": [
    "labelled_file = '/Users/mperez/NEXT/data_labelling/examples/prueba.h5'"
   ]
  },
  {
   "cell_type": "code",
   "execution_count": 11,
   "id": "8d203783",
   "metadata": {},
   "outputs": [],
   "source": [
    "labelled_MC_voxels = dio.load_dst(labelled_file, 'DATASET', 'MCVoxels')\n",
    "labelled_MC_hits   = dio.load_dst(labelled_file, 'DATASET', 'MCHits')\n",
    "labelled_beersheba = dio.load_dst(labelled_file, 'DATASET', 'BeershebaVoxels')\n",
    "eventInfo = dio.load_dst(labelled_file, 'DATASET', 'EventsInfo')\n",
    "binsInfo  = dio.load_dst(labelled_file, 'DATASET', 'BinsInfo')"
   ]
  },
  {
   "cell_type": "code",
   "execution_count": 7,
   "id": "19b77c23",
   "metadata": {},
   "outputs": [],
   "source": [
    "nevent = 34\n",
    "ids = eventInfo.dataset_id.unique()\n",
    "dataset_id = ids[nevent]\n",
    "\n",
    "\n",
    "event_beersh = labelled_beersheba[labelled_beersheba.dataset_id == dataset_id]\n",
    "event_hits = labelled_MC_hits[labelled_MC_hits.dataset_id == dataset_id]"
   ]
  },
  {
   "cell_type": "code",
   "execution_count": 12,
   "id": "d39b5d26",
   "metadata": {},
   "outputs": [
    {
     "data": {
      "text/html": [
       "<div>\n",
       "<style scoped>\n",
       "    .dataframe tbody tr th:only-of-type {\n",
       "        vertical-align: middle;\n",
       "    }\n",
       "\n",
       "    .dataframe tbody tr th {\n",
       "        vertical-align: top;\n",
       "    }\n",
       "\n",
       "    .dataframe thead th {\n",
       "        text-align: right;\n",
       "    }\n",
       "</style>\n",
       "<table border=\"1\" class=\"dataframe\">\n",
       "  <thead>\n",
       "    <tr style=\"text-align: right;\">\n",
       "      <th></th>\n",
       "      <th>min_x</th>\n",
       "      <th>max_x</th>\n",
       "      <th>nbins_x</th>\n",
       "      <th>min_y</th>\n",
       "      <th>max_y</th>\n",
       "      <th>nbins_y</th>\n",
       "      <th>min_z</th>\n",
       "      <th>max_z</th>\n",
       "      <th>nbins_z</th>\n",
       "      <th>Rmax</th>\n",
       "    </tr>\n",
       "  </thead>\n",
       "  <tbody>\n",
       "    <tr>\n",
       "      <th>0</th>\n",
       "      <td>-220.0</td>\n",
       "      <td>220.0</td>\n",
       "      <td>89.0</td>\n",
       "      <td>-220.0</td>\n",
       "      <td>220.0</td>\n",
       "      <td>89.0</td>\n",
       "      <td>0.0</td>\n",
       "      <td>550.0</td>\n",
       "      <td>276.0</td>\n",
       "      <td>NaN</td>\n",
       "    </tr>\n",
       "  </tbody>\n",
       "</table>\n",
       "</div>"
      ],
      "text/plain": [
       "   min_x  max_x  nbins_x  min_y  max_y  nbins_y  min_z  max_z  nbins_z  Rmax\n",
       "0 -220.0  220.0     89.0 -220.0  220.0     89.0    0.0  550.0    276.0   NaN"
      ]
     },
     "execution_count": 12,
     "metadata": {},
     "output_type": "execute_result"
    }
   ],
   "source": [
    "binsInfo"
   ]
  },
  {
   "cell_type": "code",
   "execution_count": null,
   "id": "efb8b6d2",
   "metadata": {},
   "outputs": [],
   "source": [
    "voxel_size = (binsInfo.size_x, binsInfo.size_y, binsInfo.size_z)"
   ]
  },
  {
   "cell_type": "code",
   "execution_count": null,
   "id": "d8c6499c",
   "metadata": {},
   "outputs": [],
   "source": [
    "%matplotlib notebook\n",
    "\n",
    "plot_cloud_voxels(event_beersh, voxel_size, opacity = [1, 0.5])\n",
    "plot_cloud_voxels_and_hits(event_beersh, event_hits, voxel_size, opacity = [0, 0.6])\n",
    "plot_3d_hits(event_hits, value = 'segclass', cmap = mpl.cm.coolwarm)"
   ]
  },
  {
   "cell_type": "code",
   "execution_count": null,
   "id": "0499af3c",
   "metadata": {},
   "outputs": [],
   "source": []
  },
  {
   "cell_type": "code",
   "execution_count": null,
   "id": "7712ea07",
   "metadata": {},
   "outputs": [],
   "source": []
  },
  {
   "cell_type": "code",
   "execution_count": null,
   "id": "4e1edcc2",
   "metadata": {},
   "outputs": [],
   "source": []
  },
  {
   "cell_type": "code",
   "execution_count": null,
   "id": "e0aa7fb8",
   "metadata": {},
   "outputs": [],
   "source": []
  },
  {
   "cell_type": "markdown",
   "id": "664ad620",
   "metadata": {},
   "source": [
    "Hacer como distributions de las clases neighbour para ver que se mantienen las proporciones o algo asín??"
   ]
  },
  {
   "cell_type": "markdown",
   "id": "36e81679",
   "metadata": {},
   "source": [
    "Tb quizás distr de energías para ver que las clases top se llevan la mayor parte??(no sé si eso tiene q pasar, plotear una cloud con hits para ver un poco cómo se distribuyen las energías y si vemos q en la cloud disminuyen pos en los voxeles etiquetados tendrá que pasar algo parecido)"
   ]
  },
  {
   "cell_type": "markdown",
   "id": "59a911ba",
   "metadata": {},
   "source": [
    "Rollo gráfica con bines siendo energía y un histo de hits originals, otro histo de hits neighbour"
   ]
  },
  {
   "cell_type": "code",
   "execution_count": null,
   "id": "9ebb8b20",
   "metadata": {},
   "outputs": [],
   "source": []
  },
  {
   "cell_type": "code",
   "execution_count": null,
   "id": "dfda3ae3",
   "metadata": {},
   "outputs": [],
   "source": []
  },
  {
   "cell_type": "code",
   "execution_count": null,
   "id": "a0503f19",
   "metadata": {},
   "outputs": [],
   "source": []
  }
 ],
 "metadata": {
  "kernelspec": {
   "display_name": "Python 3 (ipykernel)",
   "language": "python",
   "name": "python3"
  },
  "language_info": {
   "codemirror_mode": {
    "name": "ipython",
    "version": 3
   },
   "file_extension": ".py",
   "mimetype": "text/x-python",
   "name": "python",
   "nbconvert_exporter": "python",
   "pygments_lexer": "ipython3",
   "version": "3.7.11"
  }
 },
 "nbformat": 4,
 "nbformat_minor": 5
}
