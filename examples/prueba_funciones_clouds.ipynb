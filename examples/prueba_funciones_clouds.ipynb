{
 "cells": [
  {
   "cell_type": "code",
   "execution_count": 1,
   "id": "f052eb39",
   "metadata": {},
   "outputs": [],
   "source": [
    "import numpy as np\n",
    "import tables as tb\n",
    "\n",
    "import matplotlib as mpl\n",
    "import matplotlib.pyplot as plt\n",
    "from   mpl_toolkits.mplot3d import Axes3D\n",
    "\n",
    "from data_io.plot_utils import plot_3d_hits_double\n",
    "from invisible_cities.io import dst_io    as dio"
   ]
  },
  {
   "cell_type": "code",
   "execution_count": 2,
   "id": "348e36bb",
   "metadata": {},
   "outputs": [],
   "source": [
    "cutnum, num = '24', '6206'"
   ]
  },
  {
   "cell_type": "markdown",
   "id": "0f54869c",
   "metadata": {},
   "source": [
    "# Explorando ESMERALDA"
   ]
  },
  {
   "cell_type": "code",
   "execution_count": 3,
   "id": "38c91e60",
   "metadata": {},
   "outputs": [],
   "source": [
    "dir_esm = '/Users/mperez/NEXT/bersh_prod/prod_example/Tl208_NEW_v1_03_01_nexus_v5_03_04_cut{cut}.esmeralda_{num}.root.h5'.format(cut = cutnum, num = num)"
   ]
  },
  {
   "cell_type": "code",
   "execution_count": 4,
   "id": "cbba03f4",
   "metadata": {},
   "outputs": [
    {
     "name": "stdout",
     "output_type": "stream",
     "text": [
      "/Users/mperez/NEXT/bersh_prod/prod_example/Tl208_NEW_v1_03_01_nexus_v5_03_04_cut24.esmeralda_6206.root.h5 (File) ''\n",
      "Last modif.: 'Sat Oct  9 14:53:36 2021'\n",
      "Object Tree: \n",
      "/ (RootGroup) ''\n",
      "/CHITS (Group) ''\n",
      "/CHITS/highTh (Table(86919,), shuffle, zlib(4)) 'Hits'\n",
      "/CHITS/lowTh (Table(280841,), shuffle, zlib(4)) 'Hits'\n",
      "/DST (Group) ''\n",
      "/DST/Events (Table(808,), shuffle, zlib(4)) 'KDST Events'\n",
      "/Filters (Group) ''\n",
      "/Filters/high_th_select (Table(571,), shuffle, zlib(4)) 'Event has passed filter flag'\n",
      "/Filters/low_th_select (Table(571,), shuffle, zlib(4)) 'Event has passed filter flag'\n",
      "/Filters/topology_select (Table(571,), shuffle, zlib(4)) 'Event has passed filter flag'\n",
      "/MC (Group) ''\n",
      "/MC/extents (Table(571,), shuffle, zlib(4)) 'extents'\n",
      "/MC/generators (Table(0,), shuffle, zlib(4)) 'generators'\n",
      "/MC/hits (Table(143816,), shuffle, zlib(4)) 'hits'\n",
      "/MC/particles (Table(17519,), shuffle, zlib(4)) 'particles'\n",
      "/Run (Group) ''\n",
      "/Run/events (Table(571,), shuffle, zlib(4)) 'event info table'\n",
      "/Run/runInfo (Table(571,), shuffle, zlib(4)) 'run info table'\n",
      "/Summary (Group) ''\n",
      "/Summary/Events (Table(571,), shuffle, zlib(4)) 'Event summary information'\n",
      "/Tracking (Group) ''\n",
      "/Tracking/Tracks (Table(800,), shuffle, zlib(4)) 'Track information'\n",
      "\n"
     ]
    }
   ],
   "source": [
    "with tb.open_file(dir_esm) as h5in:\n",
    "    print(h5in)"
   ]
  },
  {
   "cell_type": "code",
   "execution_count": 5,
   "id": "decf605f",
   "metadata": {},
   "outputs": [
    {
     "data": {
      "text/html": [
       "<div>\n",
       "<style scoped>\n",
       "    .dataframe tbody tr th:only-of-type {\n",
       "        vertical-align: middle;\n",
       "    }\n",
       "\n",
       "    .dataframe tbody tr th {\n",
       "        vertical-align: top;\n",
       "    }\n",
       "\n",
       "    .dataframe thead th {\n",
       "        text-align: right;\n",
       "    }\n",
       "</style>\n",
       "<table border=\"1\" class=\"dataframe\">\n",
       "  <thead>\n",
       "    <tr style=\"text-align: right;\">\n",
       "      <th></th>\n",
       "      <th>event</th>\n",
       "      <th>trackID</th>\n",
       "      <th>energy</th>\n",
       "      <th>length</th>\n",
       "      <th>numb_of_voxels</th>\n",
       "      <th>numb_of_hits</th>\n",
       "      <th>numb_of_tracks</th>\n",
       "      <th>x_min</th>\n",
       "      <th>y_min</th>\n",
       "      <th>z_min</th>\n",
       "      <th>...</th>\n",
       "      <th>blob1_z</th>\n",
       "      <th>blob2_x</th>\n",
       "      <th>blob2_y</th>\n",
       "      <th>blob2_z</th>\n",
       "      <th>eblob1</th>\n",
       "      <th>eblob2</th>\n",
       "      <th>ovlp_blob_energy</th>\n",
       "      <th>vox_size_x</th>\n",
       "      <th>vox_size_y</th>\n",
       "      <th>vox_size_z</th>\n",
       "    </tr>\n",
       "  </thead>\n",
       "  <tbody>\n",
       "    <tr>\n",
       "      <th>0</th>\n",
       "      <td>48000024</td>\n",
       "      <td>0</td>\n",
       "      <td>1.491870</td>\n",
       "      <td>55.980762</td>\n",
       "      <td>17</td>\n",
       "      <td>144</td>\n",
       "      <td>1</td>\n",
       "      <td>-5.0</td>\n",
       "      <td>125.0</td>\n",
       "      <td>279.156281</td>\n",
       "      <td>...</td>\n",
       "      <td>301.606133</td>\n",
       "      <td>13.173178</td>\n",
       "      <td>177.153213</td>\n",
       "      <td>288.885091</td>\n",
       "      <td>0.593690</td>\n",
       "      <td>0.385345</td>\n",
       "      <td>0.00000</td>\n",
       "      <td>15.0</td>\n",
       "      <td>15.0</td>\n",
       "      <td>15.0</td>\n",
       "    </tr>\n",
       "    <tr>\n",
       "      <th>1</th>\n",
       "      <td>48000025</td>\n",
       "      <td>0</td>\n",
       "      <td>1.715727</td>\n",
       "      <td>103.174728</td>\n",
       "      <td>31</td>\n",
       "      <td>174</td>\n",
       "      <td>1</td>\n",
       "      <td>-65.0</td>\n",
       "      <td>65.0</td>\n",
       "      <td>226.196750</td>\n",
       "      <td>...</td>\n",
       "      <td>230.259067</td>\n",
       "      <td>-9.759202</td>\n",
       "      <td>126.969686</td>\n",
       "      <td>277.554071</td>\n",
       "      <td>0.415407</td>\n",
       "      <td>0.188988</td>\n",
       "      <td>0.00000</td>\n",
       "      <td>15.0</td>\n",
       "      <td>15.0</td>\n",
       "      <td>15.0</td>\n",
       "    </tr>\n",
       "    <tr>\n",
       "      <th>2</th>\n",
       "      <td>48000026</td>\n",
       "      <td>0</td>\n",
       "      <td>1.459909</td>\n",
       "      <td>68.407169</td>\n",
       "      <td>21</td>\n",
       "      <td>153</td>\n",
       "      <td>1</td>\n",
       "      <td>-5.0</td>\n",
       "      <td>-95.0</td>\n",
       "      <td>260.050906</td>\n",
       "      <td>...</td>\n",
       "      <td>264.864288</td>\n",
       "      <td>3.331140</td>\n",
       "      <td>-45.000000</td>\n",
       "      <td>279.964029</td>\n",
       "      <td>0.561109</td>\n",
       "      <td>0.316067</td>\n",
       "      <td>0.00000</td>\n",
       "      <td>15.0</td>\n",
       "      <td>15.0</td>\n",
       "      <td>15.0</td>\n",
       "    </tr>\n",
       "    <tr>\n",
       "      <th>3</th>\n",
       "      <td>48000027</td>\n",
       "      <td>0</td>\n",
       "      <td>1.756891</td>\n",
       "      <td>47.193966</td>\n",
       "      <td>15</td>\n",
       "      <td>162</td>\n",
       "      <td>1</td>\n",
       "      <td>25.0</td>\n",
       "      <td>-35.0</td>\n",
       "      <td>379.193719</td>\n",
       "      <td>...</td>\n",
       "      <td>383.948543</td>\n",
       "      <td>65.000000</td>\n",
       "      <td>-28.424797</td>\n",
       "      <td>409.384885</td>\n",
       "      <td>0.763692</td>\n",
       "      <td>0.437802</td>\n",
       "      <td>0.00000</td>\n",
       "      <td>15.0</td>\n",
       "      <td>15.0</td>\n",
       "      <td>15.0</td>\n",
       "    </tr>\n",
       "    <tr>\n",
       "      <th>4</th>\n",
       "      <td>48000028</td>\n",
       "      <td>0</td>\n",
       "      <td>1.486615</td>\n",
       "      <td>114.155490</td>\n",
       "      <td>21</td>\n",
       "      <td>116</td>\n",
       "      <td>1</td>\n",
       "      <td>85.0</td>\n",
       "      <td>55.0</td>\n",
       "      <td>257.039969</td>\n",
       "      <td>...</td>\n",
       "      <td>261.944577</td>\n",
       "      <td>85.000000</td>\n",
       "      <td>120.777076</td>\n",
       "      <td>318.438172</td>\n",
       "      <td>0.355191</td>\n",
       "      <td>0.173478</td>\n",
       "      <td>0.00000</td>\n",
       "      <td>15.0</td>\n",
       "      <td>15.0</td>\n",
       "      <td>15.0</td>\n",
       "    </tr>\n",
       "    <tr>\n",
       "      <th>...</th>\n",
       "      <td>...</td>\n",
       "      <td>...</td>\n",
       "      <td>...</td>\n",
       "      <td>...</td>\n",
       "      <td>...</td>\n",
       "      <td>...</td>\n",
       "      <td>...</td>\n",
       "      <td>...</td>\n",
       "      <td>...</td>\n",
       "      <td>...</td>\n",
       "      <td>...</td>\n",
       "      <td>...</td>\n",
       "      <td>...</td>\n",
       "      <td>...</td>\n",
       "      <td>...</td>\n",
       "      <td>...</td>\n",
       "      <td>...</td>\n",
       "      <td>...</td>\n",
       "      <td>...</td>\n",
       "      <td>...</td>\n",
       "      <td>...</td>\n",
       "    </tr>\n",
       "    <tr>\n",
       "      <th>795</th>\n",
       "      <td>48000593</td>\n",
       "      <td>2</td>\n",
       "      <td>0.061730</td>\n",
       "      <td>0.000000</td>\n",
       "      <td>1</td>\n",
       "      <td>1</td>\n",
       "      <td>3</td>\n",
       "      <td>-115.0</td>\n",
       "      <td>85.0</td>\n",
       "      <td>189.783719</td>\n",
       "      <td>...</td>\n",
       "      <td>189.783719</td>\n",
       "      <td>-115.000000</td>\n",
       "      <td>85.000000</td>\n",
       "      <td>189.783719</td>\n",
       "      <td>0.061730</td>\n",
       "      <td>0.061730</td>\n",
       "      <td>0.06173</td>\n",
       "      <td>15.0</td>\n",
       "      <td>15.0</td>\n",
       "      <td>15.0</td>\n",
       "    </tr>\n",
       "    <tr>\n",
       "      <th>796</th>\n",
       "      <td>48000595</td>\n",
       "      <td>0</td>\n",
       "      <td>1.604293</td>\n",
       "      <td>98.407169</td>\n",
       "      <td>33</td>\n",
       "      <td>132</td>\n",
       "      <td>1</td>\n",
       "      <td>75.0</td>\n",
       "      <td>25.0</td>\n",
       "      <td>6.210953</td>\n",
       "      <td>...</td>\n",
       "      <td>45.809710</td>\n",
       "      <td>90.107089</td>\n",
       "      <td>55.000000</td>\n",
       "      <td>51.107624</td>\n",
       "      <td>0.527633</td>\n",
       "      <td>0.199949</td>\n",
       "      <td>0.00000</td>\n",
       "      <td>15.0</td>\n",
       "      <td>15.0</td>\n",
       "      <td>15.0</td>\n",
       "    </tr>\n",
       "    <tr>\n",
       "      <th>797</th>\n",
       "      <td>48000596</td>\n",
       "      <td>0</td>\n",
       "      <td>1.783848</td>\n",
       "      <td>145.601135</td>\n",
       "      <td>35</td>\n",
       "      <td>190</td>\n",
       "      <td>2</td>\n",
       "      <td>5.0</td>\n",
       "      <td>35.0</td>\n",
       "      <td>166.121250</td>\n",
       "      <td>...</td>\n",
       "      <td>178.944797</td>\n",
       "      <td>7.404423</td>\n",
       "      <td>85.000000</td>\n",
       "      <td>222.306874</td>\n",
       "      <td>0.423356</td>\n",
       "      <td>0.152640</td>\n",
       "      <td>0.00000</td>\n",
       "      <td>15.0</td>\n",
       "      <td>15.0</td>\n",
       "      <td>15.0</td>\n",
       "    </tr>\n",
       "    <tr>\n",
       "      <th>798</th>\n",
       "      <td>48000596</td>\n",
       "      <td>1</td>\n",
       "      <td>0.012840</td>\n",
       "      <td>0.000000</td>\n",
       "      <td>1</td>\n",
       "      <td>2</td>\n",
       "      <td>2</td>\n",
       "      <td>125.0</td>\n",
       "      <td>105.0</td>\n",
       "      <td>171.826219</td>\n",
       "      <td>...</td>\n",
       "      <td>171.826219</td>\n",
       "      <td>129.878029</td>\n",
       "      <td>105.000000</td>\n",
       "      <td>171.826219</td>\n",
       "      <td>0.012840</td>\n",
       "      <td>0.012840</td>\n",
       "      <td>0.01284</td>\n",
       "      <td>15.0</td>\n",
       "      <td>15.0</td>\n",
       "      <td>15.0</td>\n",
       "    </tr>\n",
       "    <tr>\n",
       "      <th>799</th>\n",
       "      <td>48000597</td>\n",
       "      <td>0</td>\n",
       "      <td>1.620716</td>\n",
       "      <td>83.407169</td>\n",
       "      <td>24</td>\n",
       "      <td>151</td>\n",
       "      <td>1</td>\n",
       "      <td>5.0</td>\n",
       "      <td>-95.0</td>\n",
       "      <td>300.060625</td>\n",
       "      <td>...</td>\n",
       "      <td>356.013356</td>\n",
       "      <td>38.704294</td>\n",
       "      <td>-29.798989</td>\n",
       "      <td>303.203666</td>\n",
       "      <td>0.385229</td>\n",
       "      <td>0.283433</td>\n",
       "      <td>0.00000</td>\n",
       "      <td>15.0</td>\n",
       "      <td>15.0</td>\n",
       "      <td>15.0</td>\n",
       "    </tr>\n",
       "  </tbody>\n",
       "</table>\n",
       "<p>800 rows × 37 columns</p>\n",
       "</div>"
      ],
      "text/plain": [
       "        event  trackID    energy      length  numb_of_voxels  numb_of_hits  \\\n",
       "0    48000024        0  1.491870   55.980762              17           144   \n",
       "1    48000025        0  1.715727  103.174728              31           174   \n",
       "2    48000026        0  1.459909   68.407169              21           153   \n",
       "3    48000027        0  1.756891   47.193966              15           162   \n",
       "4    48000028        0  1.486615  114.155490              21           116   \n",
       "..        ...      ...       ...         ...             ...           ...   \n",
       "795  48000593        2  0.061730    0.000000               1             1   \n",
       "796  48000595        0  1.604293   98.407169              33           132   \n",
       "797  48000596        0  1.783848  145.601135              35           190   \n",
       "798  48000596        1  0.012840    0.000000               1             2   \n",
       "799  48000597        0  1.620716   83.407169              24           151   \n",
       "\n",
       "     numb_of_tracks  x_min  y_min       z_min  ...     blob1_z     blob2_x  \\\n",
       "0                 1   -5.0  125.0  279.156281  ...  301.606133   13.173178   \n",
       "1                 1  -65.0   65.0  226.196750  ...  230.259067   -9.759202   \n",
       "2                 1   -5.0  -95.0  260.050906  ...  264.864288    3.331140   \n",
       "3                 1   25.0  -35.0  379.193719  ...  383.948543   65.000000   \n",
       "4                 1   85.0   55.0  257.039969  ...  261.944577   85.000000   \n",
       "..              ...    ...    ...         ...  ...         ...         ...   \n",
       "795               3 -115.0   85.0  189.783719  ...  189.783719 -115.000000   \n",
       "796               1   75.0   25.0    6.210953  ...   45.809710   90.107089   \n",
       "797               2    5.0   35.0  166.121250  ...  178.944797    7.404423   \n",
       "798               2  125.0  105.0  171.826219  ...  171.826219  129.878029   \n",
       "799               1    5.0  -95.0  300.060625  ...  356.013356   38.704294   \n",
       "\n",
       "        blob2_y     blob2_z    eblob1    eblob2  ovlp_blob_energy  vox_size_x  \\\n",
       "0    177.153213  288.885091  0.593690  0.385345           0.00000        15.0   \n",
       "1    126.969686  277.554071  0.415407  0.188988           0.00000        15.0   \n",
       "2    -45.000000  279.964029  0.561109  0.316067           0.00000        15.0   \n",
       "3    -28.424797  409.384885  0.763692  0.437802           0.00000        15.0   \n",
       "4    120.777076  318.438172  0.355191  0.173478           0.00000        15.0   \n",
       "..          ...         ...       ...       ...               ...         ...   \n",
       "795   85.000000  189.783719  0.061730  0.061730           0.06173        15.0   \n",
       "796   55.000000   51.107624  0.527633  0.199949           0.00000        15.0   \n",
       "797   85.000000  222.306874  0.423356  0.152640           0.00000        15.0   \n",
       "798  105.000000  171.826219  0.012840  0.012840           0.01284        15.0   \n",
       "799  -29.798989  303.203666  0.385229  0.283433           0.00000        15.0   \n",
       "\n",
       "     vox_size_y  vox_size_z  \n",
       "0          15.0        15.0  \n",
       "1          15.0        15.0  \n",
       "2          15.0        15.0  \n",
       "3          15.0        15.0  \n",
       "4          15.0        15.0  \n",
       "..          ...         ...  \n",
       "795        15.0        15.0  \n",
       "796        15.0        15.0  \n",
       "797        15.0        15.0  \n",
       "798        15.0        15.0  \n",
       "799        15.0        15.0  \n",
       "\n",
       "[800 rows x 37 columns]"
      ]
     },
     "execution_count": 5,
     "metadata": {},
     "output_type": "execute_result"
    }
   ],
   "source": [
    "dio.load_dst(dir_esm, 'Tracking', 'Tracks')#.columns#['numb_of_tracks'].unique()"
   ]
  },
  {
   "cell_type": "markdown",
   "id": "998629a2",
   "metadata": {},
   "source": [
    "Vale la información de tracking en los ficheros de esmeralda entiendo que es Paulina, que se corre en esmeralda pero no se mantiene en beersheba porque no aporta info. Voxeliza, extrae blobs etc a través de grafos. Esta información luego no nos la llevamos a beersheba pq la voxelización es diferente i guess"
   ]
  },
  {
   "cell_type": "markdown",
   "id": "0ef10294",
   "metadata": {},
   "source": [
    "# Explorando ISAURA"
   ]
  },
  {
   "cell_type": "markdown",
   "id": "68ab0ff5",
   "metadata": {},
   "source": [
    "Habrá que correr entonces ISAURA en beersheba???"
   ]
  },
  {
   "cell_type": "markdown",
   "id": "5018a3d0",
   "metadata": {},
   "source": [
    "Pruebo con un ejemplo a ver q salió :)"
   ]
  },
  {
   "cell_type": "code",
   "execution_count": 6,
   "id": "28e61894",
   "metadata": {},
   "outputs": [],
   "source": [
    "dir_isau = '/Users/mperez/NEXT/bersh_prod/prod_example/isaura_example.h5'"
   ]
  },
  {
   "cell_type": "code",
   "execution_count": 7,
   "id": "e13cc932",
   "metadata": {},
   "outputs": [
    {
     "name": "stdout",
     "output_type": "stream",
     "text": [
      "/Users/mperez/NEXT/bersh_prod/prod_example/isaura_example.h5 (File) ''\n",
      "Last modif.: 'Mon Oct 18 13:59:28 2021'\n",
      "Object Tree: \n",
      "/ (RootGroup) ''\n",
      "/DST (Group) ''\n",
      "/DST/Events (Table(808,), shuffle, zlib(4)) 'KDST Events'\n",
      "/Filters (Group) ''\n",
      "/Filters/hits_select (Table(545,), shuffle, zlib(4)) 'Event has passed filter flag'\n",
      "/Filters/topology_select (Table(545,), shuffle, zlib(4)) 'Event has passed filter flag'\n",
      "/MC (Group) ''\n",
      "/MC/event_mapping (Table(545,), shuffle, zlib(4)) ''\n",
      "/MC/generators (Table(0,), shuffle, zlib(4)) ''\n",
      "/MC/hits (Table(136630,), shuffle, zlib(4)) ''\n",
      "/MC/particles (Table(16461,), shuffle, zlib(4)) ''\n",
      "/Run (Group) ''\n",
      "/Run/events (Table(545,), shuffle, zlib(4)) 'event info table'\n",
      "/Run/runInfo (Table(545,), shuffle, zlib(4)) 'run info table'\n",
      "/Summary (Group) ''\n",
      "/Summary/Events (Table(545,), shuffle, zlib(4)) 'Event summary information'\n",
      "/Tracking (Group) ''\n",
      "/Tracking/Tracks (Table(817,), shuffle, zlib(4)) 'Track information'\n",
      "\n"
     ]
    }
   ],
   "source": [
    "with tb.open_file(dir_isau) as h5in:\n",
    "    print(h5in)"
   ]
  },
  {
   "cell_type": "markdown",
   "id": "4750e458",
   "metadata": {},
   "source": [
    "Los kdst son salida de dorothea..icaros(?)"
   ]
  },
  {
   "cell_type": "code",
   "execution_count": 8,
   "id": "aa3f6ec6",
   "metadata": {},
   "outputs": [
    {
     "data": {
      "text/plain": [
       "1.6827006"
      ]
     },
     "execution_count": 8,
     "metadata": {},
     "output_type": "execute_result"
    }
   ],
   "source": [
    "hitsisau = dio.load_dst(dir_isau, 'MC', 'hits')\n",
    "hitsisau.loc[hitsisau['event_id'] == 4]['energy'].sum()"
   ]
  },
  {
   "cell_type": "code",
   "execution_count": 9,
   "id": "1291c261",
   "metadata": {},
   "outputs": [
    {
     "data": {
      "text/html": [
       "<div>\n",
       "<style scoped>\n",
       "    .dataframe tbody tr th:only-of-type {\n",
       "        vertical-align: middle;\n",
       "    }\n",
       "\n",
       "    .dataframe tbody tr th {\n",
       "        vertical-align: top;\n",
       "    }\n",
       "\n",
       "    .dataframe thead th {\n",
       "        text-align: right;\n",
       "    }\n",
       "</style>\n",
       "<table border=\"1\" class=\"dataframe\">\n",
       "  <thead>\n",
       "    <tr style=\"text-align: right;\">\n",
       "      <th></th>\n",
       "      <th>event</th>\n",
       "      <th>trackID</th>\n",
       "      <th>energy</th>\n",
       "      <th>length</th>\n",
       "      <th>numb_of_voxels</th>\n",
       "      <th>numb_of_hits</th>\n",
       "      <th>numb_of_tracks</th>\n",
       "      <th>x_min</th>\n",
       "      <th>y_min</th>\n",
       "      <th>z_min</th>\n",
       "      <th>...</th>\n",
       "      <th>blob1_z</th>\n",
       "      <th>blob2_x</th>\n",
       "      <th>blob2_y</th>\n",
       "      <th>blob2_z</th>\n",
       "      <th>eblob1</th>\n",
       "      <th>eblob2</th>\n",
       "      <th>ovlp_blob_energy</th>\n",
       "      <th>vox_size_x</th>\n",
       "      <th>vox_size_y</th>\n",
       "      <th>vox_size_z</th>\n",
       "    </tr>\n",
       "  </thead>\n",
       "  <tbody>\n",
       "    <tr>\n",
       "      <th>0</th>\n",
       "      <td>0</td>\n",
       "      <td>0</td>\n",
       "      <td>1.695078</td>\n",
       "      <td>92.193966</td>\n",
       "      <td>28</td>\n",
       "      <td>3898</td>\n",
       "      <td>1</td>\n",
       "      <td>-55.5</td>\n",
       "      <td>140.5</td>\n",
       "      <td>90.484500</td>\n",
       "      <td>...</td>\n",
       "      <td>93.326091</td>\n",
       "      <td>-49.454023</td>\n",
       "      <td>184.721679</td>\n",
       "      <td>167.270718</td>\n",
       "      <td>0.584613</td>\n",
       "      <td>0.176338</td>\n",
       "      <td>0.000000</td>\n",
       "      <td>15.0</td>\n",
       "      <td>15.0</td>\n",
       "      <td>15.0</td>\n",
       "    </tr>\n",
       "    <tr>\n",
       "      <th>1</th>\n",
       "      <td>1</td>\n",
       "      <td>0</td>\n",
       "      <td>1.497751</td>\n",
       "      <td>109.387931</td>\n",
       "      <td>23</td>\n",
       "      <td>3423</td>\n",
       "      <td>1</td>\n",
       "      <td>-157.5</td>\n",
       "      <td>21.5</td>\n",
       "      <td>177.125250</td>\n",
       "      <td>...</td>\n",
       "      <td>205.913873</td>\n",
       "      <td>-106.548246</td>\n",
       "      <td>89.487555</td>\n",
       "      <td>178.791735</td>\n",
       "      <td>0.758511</td>\n",
       "      <td>0.102208</td>\n",
       "      <td>0.000000</td>\n",
       "      <td>15.0</td>\n",
       "      <td>15.0</td>\n",
       "      <td>15.0</td>\n",
       "    </tr>\n",
       "    <tr>\n",
       "      <th>2</th>\n",
       "      <td>2</td>\n",
       "      <td>0</td>\n",
       "      <td>1.528087</td>\n",
       "      <td>77.193966</td>\n",
       "      <td>23</td>\n",
       "      <td>3088</td>\n",
       "      <td>2</td>\n",
       "      <td>12.5</td>\n",
       "      <td>134.5</td>\n",
       "      <td>165.423125</td>\n",
       "      <td>...</td>\n",
       "      <td>182.145129</td>\n",
       "      <td>70.724994</td>\n",
       "      <td>178.994209</td>\n",
       "      <td>195.430859</td>\n",
       "      <td>0.730373</td>\n",
       "      <td>0.149876</td>\n",
       "      <td>0.000000</td>\n",
       "      <td>15.0</td>\n",
       "      <td>15.0</td>\n",
       "      <td>15.0</td>\n",
       "    </tr>\n",
       "    <tr>\n",
       "      <th>3</th>\n",
       "      <td>2</td>\n",
       "      <td>1</td>\n",
       "      <td>0.167476</td>\n",
       "      <td>15.000000</td>\n",
       "      <td>2</td>\n",
       "      <td>456</td>\n",
       "      <td>2</td>\n",
       "      <td>37.5</td>\n",
       "      <td>99.5</td>\n",
       "      <td>347.285750</td>\n",
       "      <td>...</td>\n",
       "      <td>350.668214</td>\n",
       "      <td>58.135521</td>\n",
       "      <td>107.826958</td>\n",
       "      <td>350.916527</td>\n",
       "      <td>0.167476</td>\n",
       "      <td>0.167258</td>\n",
       "      <td>0.167258</td>\n",
       "      <td>15.0</td>\n",
       "      <td>15.0</td>\n",
       "      <td>15.0</td>\n",
       "    </tr>\n",
       "    <tr>\n",
       "      <th>4</th>\n",
       "      <td>3</td>\n",
       "      <td>0</td>\n",
       "      <td>1.442762</td>\n",
       "      <td>118.174728</td>\n",
       "      <td>24</td>\n",
       "      <td>3677</td>\n",
       "      <td>2</td>\n",
       "      <td>-6.5</td>\n",
       "      <td>-8.5</td>\n",
       "      <td>251.202844</td>\n",
       "      <td>...</td>\n",
       "      <td>253.690899</td>\n",
       "      <td>23.482472</td>\n",
       "      <td>77.551239</td>\n",
       "      <td>289.694235</td>\n",
       "      <td>0.441034</td>\n",
       "      <td>0.125020</td>\n",
       "      <td>0.000000</td>\n",
       "      <td>15.0</td>\n",
       "      <td>15.0</td>\n",
       "      <td>15.0</td>\n",
       "    </tr>\n",
       "    <tr>\n",
       "      <th>5</th>\n",
       "      <td>3</td>\n",
       "      <td>1</td>\n",
       "      <td>0.017741</td>\n",
       "      <td>0.000000</td>\n",
       "      <td>1</td>\n",
       "      <td>50</td>\n",
       "      <td>2</td>\n",
       "      <td>-6.5</td>\n",
       "      <td>167.5</td>\n",
       "      <td>268.850625</td>\n",
       "      <td>...</td>\n",
       "      <td>269.354505</td>\n",
       "      <td>-4.101705</td>\n",
       "      <td>170.165445</td>\n",
       "      <td>269.354505</td>\n",
       "      <td>0.017741</td>\n",
       "      <td>0.017741</td>\n",
       "      <td>0.017741</td>\n",
       "      <td>15.0</td>\n",
       "      <td>15.0</td>\n",
       "      <td>15.0</td>\n",
       "    </tr>\n",
       "    <tr>\n",
       "      <th>6</th>\n",
       "      <td>4</td>\n",
       "      <td>0</td>\n",
       "      <td>1.475523</td>\n",
       "      <td>66.961524</td>\n",
       "      <td>20</td>\n",
       "      <td>3312</td>\n",
       "      <td>2</td>\n",
       "      <td>-1.5</td>\n",
       "      <td>22.5</td>\n",
       "      <td>207.329781</td>\n",
       "      <td>...</td>\n",
       "      <td>247.928081</td>\n",
       "      <td>29.785370</td>\n",
       "      <td>31.409942</td>\n",
       "      <td>212.216580</td>\n",
       "      <td>0.785446</td>\n",
       "      <td>0.443997</td>\n",
       "      <td>0.000000</td>\n",
       "      <td>15.0</td>\n",
       "      <td>15.0</td>\n",
       "      <td>15.0</td>\n",
       "    </tr>\n",
       "    <tr>\n",
       "      <th>7</th>\n",
       "      <td>4</td>\n",
       "      <td>1</td>\n",
       "      <td>0.219587</td>\n",
       "      <td>15.000000</td>\n",
       "      <td>2</td>\n",
       "      <td>677</td>\n",
       "      <td>2</td>\n",
       "      <td>134.5</td>\n",
       "      <td>-107.5</td>\n",
       "      <td>321.157562</td>\n",
       "      <td>...</td>\n",
       "      <td>323.001606</td>\n",
       "      <td>145.799286</td>\n",
       "      <td>-100.903070</td>\n",
       "      <td>324.165176</td>\n",
       "      <td>0.219587</td>\n",
       "      <td>0.219587</td>\n",
       "      <td>0.219587</td>\n",
       "      <td>15.0</td>\n",
       "      <td>15.0</td>\n",
       "      <td>15.0</td>\n",
       "    </tr>\n",
       "    <tr>\n",
       "      <th>8</th>\n",
       "      <td>5</td>\n",
       "      <td>0</td>\n",
       "      <td>1.501186</td>\n",
       "      <td>51.961524</td>\n",
       "      <td>17</td>\n",
       "      <td>3377</td>\n",
       "      <td>1</td>\n",
       "      <td>-160.5</td>\n",
       "      <td>-12.5</td>\n",
       "      <td>178.379031</td>\n",
       "      <td>...</td>\n",
       "      <td>185.924344</td>\n",
       "      <td>-150.908594</td>\n",
       "      <td>-7.581754</td>\n",
       "      <td>206.700203</td>\n",
       "      <td>0.678517</td>\n",
       "      <td>0.376718</td>\n",
       "      <td>0.064779</td>\n",
       "      <td>15.0</td>\n",
       "      <td>15.0</td>\n",
       "      <td>15.0</td>\n",
       "    </tr>\n",
       "    <tr>\n",
       "      <th>9</th>\n",
       "      <td>6</td>\n",
       "      <td>0</td>\n",
       "      <td>1.524265</td>\n",
       "      <td>88.174728</td>\n",
       "      <td>25</td>\n",
       "      <td>2948</td>\n",
       "      <td>1</td>\n",
       "      <td>-109.5</td>\n",
       "      <td>137.5</td>\n",
       "      <td>265.336594</td>\n",
       "      <td>...</td>\n",
       "      <td>271.028040</td>\n",
       "      <td>-56.334557</td>\n",
       "      <td>166.847480</td>\n",
       "      <td>331.672780</td>\n",
       "      <td>0.762932</td>\n",
       "      <td>0.152296</td>\n",
       "      <td>0.000000</td>\n",
       "      <td>15.0</td>\n",
       "      <td>15.0</td>\n",
       "      <td>15.0</td>\n",
       "    </tr>\n",
       "    <tr>\n",
       "      <th>10</th>\n",
       "      <td>7</td>\n",
       "      <td>0</td>\n",
       "      <td>1.689898</td>\n",
       "      <td>109.387931</td>\n",
       "      <td>27</td>\n",
       "      <td>3489</td>\n",
       "      <td>1</td>\n",
       "      <td>-50.5</td>\n",
       "      <td>-18.5</td>\n",
       "      <td>116.422297</td>\n",
       "      <td>...</td>\n",
       "      <td>140.033975</td>\n",
       "      <td>-45.263798</td>\n",
       "      <td>58.303879</td>\n",
       "      <td>202.100309</td>\n",
       "      <td>0.783079</td>\n",
       "      <td>0.207050</td>\n",
       "      <td>0.000000</td>\n",
       "      <td>15.0</td>\n",
       "      <td>15.0</td>\n",
       "      <td>15.0</td>\n",
       "    </tr>\n",
       "    <tr>\n",
       "      <th>11</th>\n",
       "      <td>8</td>\n",
       "      <td>0</td>\n",
       "      <td>1.445592</td>\n",
       "      <td>47.193966</td>\n",
       "      <td>14</td>\n",
       "      <td>2981</td>\n",
       "      <td>1</td>\n",
       "      <td>-106.5</td>\n",
       "      <td>-16.5</td>\n",
       "      <td>406.162781</td>\n",
       "      <td>...</td>\n",
       "      <td>416.126176</td>\n",
       "      <td>-95.777713</td>\n",
       "      <td>-1.178348</td>\n",
       "      <td>440.150993</td>\n",
       "      <td>0.834839</td>\n",
       "      <td>0.479088</td>\n",
       "      <td>0.006235</td>\n",
       "      <td>15.0</td>\n",
       "      <td>15.0</td>\n",
       "      <td>15.0</td>\n",
       "    </tr>\n",
       "    <tr>\n",
       "      <th>12</th>\n",
       "      <td>9</td>\n",
       "      <td>0</td>\n",
       "      <td>1.618168</td>\n",
       "      <td>81.961524</td>\n",
       "      <td>21</td>\n",
       "      <td>2943</td>\n",
       "      <td>1</td>\n",
       "      <td>1.5</td>\n",
       "      <td>-182.5</td>\n",
       "      <td>122.530344</td>\n",
       "      <td>...</td>\n",
       "      <td>178.477438</td>\n",
       "      <td>31.886462</td>\n",
       "      <td>-175.407159</td>\n",
       "      <td>125.447743</td>\n",
       "      <td>0.780527</td>\n",
       "      <td>0.536563</td>\n",
       "      <td>0.000000</td>\n",
       "      <td>15.0</td>\n",
       "      <td>15.0</td>\n",
       "      <td>15.0</td>\n",
       "    </tr>\n",
       "    <tr>\n",
       "      <th>13</th>\n",
       "      <td>10</td>\n",
       "      <td>0</td>\n",
       "      <td>1.513107</td>\n",
       "      <td>57.426407</td>\n",
       "      <td>20</td>\n",
       "      <td>3819</td>\n",
       "      <td>1</td>\n",
       "      <td>59.5</td>\n",
       "      <td>17.5</td>\n",
       "      <td>470.112625</td>\n",
       "      <td>...</td>\n",
       "      <td>482.188535</td>\n",
       "      <td>64.277002</td>\n",
       "      <td>24.009463</td>\n",
       "      <td>490.146384</td>\n",
       "      <td>0.859450</td>\n",
       "      <td>0.386797</td>\n",
       "      <td>0.000000</td>\n",
       "      <td>15.0</td>\n",
       "      <td>15.0</td>\n",
       "      <td>15.0</td>\n",
       "    </tr>\n",
       "    <tr>\n",
       "      <th>14</th>\n",
       "      <td>11</td>\n",
       "      <td>0</td>\n",
       "      <td>1.611428</td>\n",
       "      <td>88.174728</td>\n",
       "      <td>19</td>\n",
       "      <td>3189</td>\n",
       "      <td>1</td>\n",
       "      <td>-65.5</td>\n",
       "      <td>85.5</td>\n",
       "      <td>218.420156</td>\n",
       "      <td>...</td>\n",
       "      <td>222.917824</td>\n",
       "      <td>-59.326062</td>\n",
       "      <td>93.452340</td>\n",
       "      <td>264.670064</td>\n",
       "      <td>0.628811</td>\n",
       "      <td>0.577119</td>\n",
       "      <td>0.000000</td>\n",
       "      <td>15.0</td>\n",
       "      <td>15.0</td>\n",
       "      <td>15.0</td>\n",
       "    </tr>\n",
       "    <tr>\n",
       "      <th>15</th>\n",
       "      <td>12</td>\n",
       "      <td>0</td>\n",
       "      <td>1.547769</td>\n",
       "      <td>55.980762</td>\n",
       "      <td>17</td>\n",
       "      <td>2080</td>\n",
       "      <td>1</td>\n",
       "      <td>-26.5</td>\n",
       "      <td>-73.5</td>\n",
       "      <td>90.518641</td>\n",
       "      <td>...</td>\n",
       "      <td>103.360214</td>\n",
       "      <td>-4.948701</td>\n",
       "      <td>-66.426661</td>\n",
       "      <td>93.591788</td>\n",
       "      <td>0.909762</td>\n",
       "      <td>0.602306</td>\n",
       "      <td>0.000000</td>\n",
       "      <td>15.0</td>\n",
       "      <td>15.0</td>\n",
       "      <td>15.0</td>\n",
       "    </tr>\n",
       "    <tr>\n",
       "      <th>16</th>\n",
       "      <td>13</td>\n",
       "      <td>0</td>\n",
       "      <td>1.645518</td>\n",
       "      <td>170.136252</td>\n",
       "      <td>38</td>\n",
       "      <td>3422</td>\n",
       "      <td>1</td>\n",
       "      <td>-38.5</td>\n",
       "      <td>73.5</td>\n",
       "      <td>31.348500</td>\n",
       "      <td>...</td>\n",
       "      <td>49.243714</td>\n",
       "      <td>41.053979</td>\n",
       "      <td>187.978055</td>\n",
       "      <td>119.452548</td>\n",
       "      <td>0.781513</td>\n",
       "      <td>0.127742</td>\n",
       "      <td>0.000000</td>\n",
       "      <td>15.0</td>\n",
       "      <td>15.0</td>\n",
       "      <td>15.0</td>\n",
       "    </tr>\n",
       "    <tr>\n",
       "      <th>17</th>\n",
       "      <td>14</td>\n",
       "      <td>0</td>\n",
       "      <td>1.731235</td>\n",
       "      <td>128.407169</td>\n",
       "      <td>28</td>\n",
       "      <td>3964</td>\n",
       "      <td>1</td>\n",
       "      <td>-123.5</td>\n",
       "      <td>-158.5</td>\n",
       "      <td>51.560328</td>\n",
       "      <td>...</td>\n",
       "      <td>73.982234</td>\n",
       "      <td>-64.401868</td>\n",
       "      <td>-56.311996</td>\n",
       "      <td>53.242050</td>\n",
       "      <td>0.441510</td>\n",
       "      <td>0.186714</td>\n",
       "      <td>0.000000</td>\n",
       "      <td>15.0</td>\n",
       "      <td>15.0</td>\n",
       "      <td>15.0</td>\n",
       "    </tr>\n",
       "    <tr>\n",
       "      <th>18</th>\n",
       "      <td>15</td>\n",
       "      <td>0</td>\n",
       "      <td>1.301253</td>\n",
       "      <td>96.961524</td>\n",
       "      <td>27</td>\n",
       "      <td>3287</td>\n",
       "      <td>2</td>\n",
       "      <td>-24.5</td>\n",
       "      <td>101.5</td>\n",
       "      <td>234.360531</td>\n",
       "      <td>...</td>\n",
       "      <td>236.095282</td>\n",
       "      <td>21.481902</td>\n",
       "      <td>172.743950</td>\n",
       "      <td>258.338099</td>\n",
       "      <td>0.386218</td>\n",
       "      <td>0.155596</td>\n",
       "      <td>0.000000</td>\n",
       "      <td>15.0</td>\n",
       "      <td>15.0</td>\n",
       "      <td>15.0</td>\n",
       "    </tr>\n",
       "    <tr>\n",
       "      <th>19</th>\n",
       "      <td>15</td>\n",
       "      <td>1</td>\n",
       "      <td>0.149462</td>\n",
       "      <td>15.000000</td>\n",
       "      <td>2</td>\n",
       "      <td>454</td>\n",
       "      <td>2</td>\n",
       "      <td>138.5</td>\n",
       "      <td>108.5</td>\n",
       "      <td>212.329563</td>\n",
       "      <td>...</td>\n",
       "      <td>214.607977</td>\n",
       "      <td>139.048124</td>\n",
       "      <td>108.990868</td>\n",
       "      <td>225.631146</td>\n",
       "      <td>0.149462</td>\n",
       "      <td>0.149462</td>\n",
       "      <td>0.149462</td>\n",
       "      <td>15.0</td>\n",
       "      <td>15.0</td>\n",
       "      <td>15.0</td>\n",
       "    </tr>\n",
       "  </tbody>\n",
       "</table>\n",
       "<p>20 rows × 37 columns</p>\n",
       "</div>"
      ],
      "text/plain": [
       "    event  trackID    energy      length  numb_of_voxels  numb_of_hits  \\\n",
       "0       0        0  1.695078   92.193966              28          3898   \n",
       "1       1        0  1.497751  109.387931              23          3423   \n",
       "2       2        0  1.528087   77.193966              23          3088   \n",
       "3       2        1  0.167476   15.000000               2           456   \n",
       "4       3        0  1.442762  118.174728              24          3677   \n",
       "5       3        1  0.017741    0.000000               1            50   \n",
       "6       4        0  1.475523   66.961524              20          3312   \n",
       "7       4        1  0.219587   15.000000               2           677   \n",
       "8       5        0  1.501186   51.961524              17          3377   \n",
       "9       6        0  1.524265   88.174728              25          2948   \n",
       "10      7        0  1.689898  109.387931              27          3489   \n",
       "11      8        0  1.445592   47.193966              14          2981   \n",
       "12      9        0  1.618168   81.961524              21          2943   \n",
       "13     10        0  1.513107   57.426407              20          3819   \n",
       "14     11        0  1.611428   88.174728              19          3189   \n",
       "15     12        0  1.547769   55.980762              17          2080   \n",
       "16     13        0  1.645518  170.136252              38          3422   \n",
       "17     14        0  1.731235  128.407169              28          3964   \n",
       "18     15        0  1.301253   96.961524              27          3287   \n",
       "19     15        1  0.149462   15.000000               2           454   \n",
       "\n",
       "    numb_of_tracks  x_min  y_min       z_min  ...     blob1_z     blob2_x  \\\n",
       "0                1  -55.5  140.5   90.484500  ...   93.326091  -49.454023   \n",
       "1                1 -157.5   21.5  177.125250  ...  205.913873 -106.548246   \n",
       "2                2   12.5  134.5  165.423125  ...  182.145129   70.724994   \n",
       "3                2   37.5   99.5  347.285750  ...  350.668214   58.135521   \n",
       "4                2   -6.5   -8.5  251.202844  ...  253.690899   23.482472   \n",
       "5                2   -6.5  167.5  268.850625  ...  269.354505   -4.101705   \n",
       "6                2   -1.5   22.5  207.329781  ...  247.928081   29.785370   \n",
       "7                2  134.5 -107.5  321.157562  ...  323.001606  145.799286   \n",
       "8                1 -160.5  -12.5  178.379031  ...  185.924344 -150.908594   \n",
       "9                1 -109.5  137.5  265.336594  ...  271.028040  -56.334557   \n",
       "10               1  -50.5  -18.5  116.422297  ...  140.033975  -45.263798   \n",
       "11               1 -106.5  -16.5  406.162781  ...  416.126176  -95.777713   \n",
       "12               1    1.5 -182.5  122.530344  ...  178.477438   31.886462   \n",
       "13               1   59.5   17.5  470.112625  ...  482.188535   64.277002   \n",
       "14               1  -65.5   85.5  218.420156  ...  222.917824  -59.326062   \n",
       "15               1  -26.5  -73.5   90.518641  ...  103.360214   -4.948701   \n",
       "16               1  -38.5   73.5   31.348500  ...   49.243714   41.053979   \n",
       "17               1 -123.5 -158.5   51.560328  ...   73.982234  -64.401868   \n",
       "18               2  -24.5  101.5  234.360531  ...  236.095282   21.481902   \n",
       "19               2  138.5  108.5  212.329563  ...  214.607977  139.048124   \n",
       "\n",
       "       blob2_y     blob2_z    eblob1    eblob2  ovlp_blob_energy  vox_size_x  \\\n",
       "0   184.721679  167.270718  0.584613  0.176338          0.000000        15.0   \n",
       "1    89.487555  178.791735  0.758511  0.102208          0.000000        15.0   \n",
       "2   178.994209  195.430859  0.730373  0.149876          0.000000        15.0   \n",
       "3   107.826958  350.916527  0.167476  0.167258          0.167258        15.0   \n",
       "4    77.551239  289.694235  0.441034  0.125020          0.000000        15.0   \n",
       "5   170.165445  269.354505  0.017741  0.017741          0.017741        15.0   \n",
       "6    31.409942  212.216580  0.785446  0.443997          0.000000        15.0   \n",
       "7  -100.903070  324.165176  0.219587  0.219587          0.219587        15.0   \n",
       "8    -7.581754  206.700203  0.678517  0.376718          0.064779        15.0   \n",
       "9   166.847480  331.672780  0.762932  0.152296          0.000000        15.0   \n",
       "10   58.303879  202.100309  0.783079  0.207050          0.000000        15.0   \n",
       "11   -1.178348  440.150993  0.834839  0.479088          0.006235        15.0   \n",
       "12 -175.407159  125.447743  0.780527  0.536563          0.000000        15.0   \n",
       "13   24.009463  490.146384  0.859450  0.386797          0.000000        15.0   \n",
       "14   93.452340  264.670064  0.628811  0.577119          0.000000        15.0   \n",
       "15  -66.426661   93.591788  0.909762  0.602306          0.000000        15.0   \n",
       "16  187.978055  119.452548  0.781513  0.127742          0.000000        15.0   \n",
       "17  -56.311996   53.242050  0.441510  0.186714          0.000000        15.0   \n",
       "18  172.743950  258.338099  0.386218  0.155596          0.000000        15.0   \n",
       "19  108.990868  225.631146  0.149462  0.149462          0.149462        15.0   \n",
       "\n",
       "    vox_size_y  vox_size_z  \n",
       "0         15.0        15.0  \n",
       "1         15.0        15.0  \n",
       "2         15.0        15.0  \n",
       "3         15.0        15.0  \n",
       "4         15.0        15.0  \n",
       "5         15.0        15.0  \n",
       "6         15.0        15.0  \n",
       "7         15.0        15.0  \n",
       "8         15.0        15.0  \n",
       "9         15.0        15.0  \n",
       "10        15.0        15.0  \n",
       "11        15.0        15.0  \n",
       "12        15.0        15.0  \n",
       "13        15.0        15.0  \n",
       "14        15.0        15.0  \n",
       "15        15.0        15.0  \n",
       "16        15.0        15.0  \n",
       "17        15.0        15.0  \n",
       "18        15.0        15.0  \n",
       "19        15.0        15.0  \n",
       "\n",
       "[20 rows x 37 columns]"
      ]
     },
     "execution_count": 9,
     "metadata": {},
     "output_type": "execute_result"
    }
   ],
   "source": [
    "dio.load_dst(dir_isau, 'Tracking', 'Tracks').head(20)"
   ]
  },
  {
   "cell_type": "markdown",
   "id": "16b57a0b",
   "metadata": {},
   "source": [
    "Parece que isaura pues nos voxeliza y divide en lo que serían trazas distintas de un mismo evento. Supongo que voy a tener que estar usando eso para hacer las etiketas pero aun no lo se fijo... Lo que veo es que las enerías no coinciden, supongo que será porque coge hits de beersheba y define las trazas, y lo que queda fuera no lo cuenta entonces se pierde energía de las cosas que no cuenta... non sei, quizais preguntare"
   ]
  },
  {
   "cell_type": "markdown",
   "id": "2668babc",
   "metadata": {},
   "source": [
    "# Datos de MC en beersheba, para hacer cosas"
   ]
  },
  {
   "cell_type": "code",
   "execution_count": 10,
   "id": "22633a8a",
   "metadata": {},
   "outputs": [],
   "source": [
    "dir_beersh = '/Users/mperez/NEXT/bersh_prod/prod_example/Tl208_NEW_v1_03_01_nexus_v5_03_04_cut{cut}.beersheba_{num}.root.h5'.format(cut = cutnum, num = num)"
   ]
  },
  {
   "cell_type": "code",
   "execution_count": 11,
   "id": "c982f4cf",
   "metadata": {},
   "outputs": [
    {
     "name": "stdout",
     "output_type": "stream",
     "text": [
      "/Users/mperez/NEXT/bersh_prod/prod_example/Tl208_NEW_v1_03_01_nexus_v5_03_04_cut24.beersheba_6206.root.h5 (File) ''\n",
      "Last modif.: 'Sat Oct  9 12:33:38 2021'\n",
      "Object Tree: \n",
      "/ (RootGroup) ''\n",
      "/DECO (Group) ''\n",
      "/DECO/Events (Table(2153387,), shuffle, zlib(4)) 'Deconvolved hits'\n",
      "/DST (Group) ''\n",
      "/DST/Events (Table(808,), shuffle, zlib(4)) 'KDST Events'\n",
      "/MC (Group) ''\n",
      "/MC/event_mapping (Table(571,), shuffle, zlib(4)) ''\n",
      "/MC/generators (Table(0,), shuffle, zlib(4)) ''\n",
      "/MC/hits (Table(143816,), shuffle, zlib(4)) ''\n",
      "/MC/particles (Table(17519,), shuffle, zlib(4)) ''\n",
      "/Run (Group) ''\n",
      "/Run/events (Table(571,), shuffle, zlib(4)) 'event info table'\n",
      "/Run/runInfo (Table(571,), shuffle, zlib(4)) 'run info table'\n",
      "/Summary (Group) ''\n",
      "/Summary/Events (Table(571,), shuffle, zlib(4)) 'Event summary information'\n",
      "\n"
     ]
    }
   ],
   "source": [
    "with tb.open_file(dir_beersh) as h5in:\n",
    "    print(h5in)"
   ]
  },
  {
   "cell_type": "code",
   "execution_count": 12,
   "id": "fe2cbce3",
   "metadata": {},
   "outputs": [],
   "source": [
    "def get_event_id(cutnum, ev_num):\n",
    "    '''\n",
    "    Given a cut number (one of the identifiers of a file) and a event number (i.e. number of the \n",
    "    position of an event inside a file) it returns the equivalent number for the event_id column in the MC data\n",
    "    \n",
    "    Args:\n",
    "        cutnum: INT or STRING\n",
    "    Number in the filename.\n",
    "    \n",
    "        ev_num: INT\n",
    "    Desired event position.\n",
    "    \n",
    "    RETURN:\n",
    "        nevent: INT\n",
    "    Corresponding event_id to the desired event.\n",
    "    \n",
    "    '''\n",
    "    cutnum = int(cutnum)\n",
    "    nevent = cutnum * 2 * 1000000 + cutnum + ev_num\n",
    "    return nevent"
   ]
  },
  {
   "cell_type": "markdown",
   "id": "9e4eb7ab",
   "metadata": {},
   "source": [
    "A este no tiene mucho sentido hacerle test i guess..."
   ]
  },
  {
   "cell_type": "code",
   "execution_count": 13,
   "id": "cf904794",
   "metadata": {},
   "outputs": [],
   "source": [
    "N = 33"
   ]
  },
  {
   "cell_type": "code",
   "execution_count": 14,
   "id": "b52cd56a",
   "metadata": {},
   "outputs": [],
   "source": [
    "nevent = get_event_id(cutnum, N)"
   ]
  },
  {
   "cell_type": "markdown",
   "id": "405831a6",
   "metadata": {},
   "source": [
    "# Double scape / bkg en los datos?"
   ]
  },
  {
   "cell_type": "markdown",
   "id": "5241faa7",
   "metadata": {},
   "source": [
    "Vamos a ver si hay datos de double scape y bkg..."
   ]
  },
  {
   "cell_type": "code",
   "execution_count": 15,
   "id": "3a690edf",
   "metadata": {
    "scrolled": true
   },
   "outputs": [
    {
     "data": {
      "text/html": [
       "<div>\n",
       "<style scoped>\n",
       "    .dataframe tbody tr th:only-of-type {\n",
       "        vertical-align: middle;\n",
       "    }\n",
       "\n",
       "    .dataframe tbody tr th {\n",
       "        vertical-align: top;\n",
       "    }\n",
       "\n",
       "    .dataframe thead th {\n",
       "        text-align: right;\n",
       "    }\n",
       "</style>\n",
       "<table border=\"1\" class=\"dataframe\">\n",
       "  <thead>\n",
       "    <tr style=\"text-align: right;\">\n",
       "      <th></th>\n",
       "      <th>event_id</th>\n",
       "      <th>particle_id</th>\n",
       "      <th>particle_name</th>\n",
       "      <th>primary</th>\n",
       "      <th>mother_id</th>\n",
       "      <th>initial_x</th>\n",
       "      <th>initial_y</th>\n",
       "      <th>initial_z</th>\n",
       "      <th>initial_t</th>\n",
       "      <th>final_x</th>\n",
       "      <th>...</th>\n",
       "      <th>initial_momentum_x</th>\n",
       "      <th>initial_momentum_y</th>\n",
       "      <th>initial_momentum_z</th>\n",
       "      <th>kin_energy</th>\n",
       "      <th>creator_proc</th>\n",
       "      <th>final_momentum_x</th>\n",
       "      <th>final_momentum_y</th>\n",
       "      <th>final_momentum_z</th>\n",
       "      <th>length</th>\n",
       "      <th>final_proc</th>\n",
       "    </tr>\n",
       "  </thead>\n",
       "  <tbody>\n",
       "    <tr>\n",
       "      <th>456</th>\n",
       "      <td>48000040</td>\n",
       "      <td>20</td>\n",
       "      <td>e+</td>\n",
       "      <td>False</td>\n",
       "      <td>18</td>\n",
       "      <td>-11.518599</td>\n",
       "      <td>-162.121780</td>\n",
       "      <td>265.537903</td>\n",
       "      <td>9.855987e+10</td>\n",
       "      <td>-11.938400</td>\n",
       "      <td>...</td>\n",
       "      <td>0.527771</td>\n",
       "      <td>-0.622201</td>\n",
       "      <td>0.209745</td>\n",
       "      <td>0.474287</td>\n",
       "      <td>conv</td>\n",
       "      <td>NaN</td>\n",
       "      <td>NaN</td>\n",
       "      <td>NaN</td>\n",
       "      <td>NaN</td>\n",
       "      <td>NaN</td>\n",
       "    </tr>\n",
       "    <tr>\n",
       "      <th>555</th>\n",
       "      <td>48000043</td>\n",
       "      <td>10</td>\n",
       "      <td>e+</td>\n",
       "      <td>False</td>\n",
       "      <td>8</td>\n",
       "      <td>4.722394</td>\n",
       "      <td>-118.117508</td>\n",
       "      <td>265.445435</td>\n",
       "      <td>3.740084e+11</td>\n",
       "      <td>-2.177318</td>\n",
       "      <td>...</td>\n",
       "      <td>0.158148</td>\n",
       "      <td>-0.404890</td>\n",
       "      <td>-0.505273</td>\n",
       "      <td>0.328863</td>\n",
       "      <td>conv</td>\n",
       "      <td>NaN</td>\n",
       "      <td>NaN</td>\n",
       "      <td>NaN</td>\n",
       "      <td>NaN</td>\n",
       "      <td>NaN</td>\n",
       "    </tr>\n",
       "    <tr>\n",
       "      <th>863</th>\n",
       "      <td>48000053</td>\n",
       "      <td>10</td>\n",
       "      <td>e+</td>\n",
       "      <td>False</td>\n",
       "      <td>8</td>\n",
       "      <td>-14.303410</td>\n",
       "      <td>-85.066666</td>\n",
       "      <td>221.592911</td>\n",
       "      <td>6.117097e+11</td>\n",
       "      <td>-29.597569</td>\n",
       "      <td>...</td>\n",
       "      <td>-0.079040</td>\n",
       "      <td>-0.766371</td>\n",
       "      <td>0.476666</td>\n",
       "      <td>0.529147</td>\n",
       "      <td>conv</td>\n",
       "      <td>NaN</td>\n",
       "      <td>NaN</td>\n",
       "      <td>NaN</td>\n",
       "      <td>NaN</td>\n",
       "      <td>NaN</td>\n",
       "    </tr>\n",
       "    <tr>\n",
       "      <th>1007</th>\n",
       "      <td>48000058</td>\n",
       "      <td>10</td>\n",
       "      <td>e+</td>\n",
       "      <td>False</td>\n",
       "      <td>8</td>\n",
       "      <td>20.028671</td>\n",
       "      <td>195.548508</td>\n",
       "      <td>115.559586</td>\n",
       "      <td>8.743147e+11</td>\n",
       "      <td>8.101505</td>\n",
       "      <td>...</td>\n",
       "      <td>1.011147</td>\n",
       "      <td>-0.163734</td>\n",
       "      <td>-1.271724</td>\n",
       "      <td>1.200033</td>\n",
       "      <td>conv</td>\n",
       "      <td>NaN</td>\n",
       "      <td>NaN</td>\n",
       "      <td>NaN</td>\n",
       "      <td>NaN</td>\n",
       "      <td>NaN</td>\n",
       "    </tr>\n",
       "    <tr>\n",
       "      <th>1081</th>\n",
       "      <td>48000060</td>\n",
       "      <td>15</td>\n",
       "      <td>e+</td>\n",
       "      <td>False</td>\n",
       "      <td>13</td>\n",
       "      <td>-110.273911</td>\n",
       "      <td>-75.572815</td>\n",
       "      <td>75.768661</td>\n",
       "      <td>1.891528e+10</td>\n",
       "      <td>-82.801506</td>\n",
       "      <td>...</td>\n",
       "      <td>-0.165789</td>\n",
       "      <td>-1.605877</td>\n",
       "      <td>-0.747052</td>\n",
       "      <td>1.339821</td>\n",
       "      <td>conv</td>\n",
       "      <td>NaN</td>\n",
       "      <td>NaN</td>\n",
       "      <td>NaN</td>\n",
       "      <td>NaN</td>\n",
       "      <td>NaN</td>\n",
       "    </tr>\n",
       "    <tr>\n",
       "      <th>...</th>\n",
       "      <td>...</td>\n",
       "      <td>...</td>\n",
       "      <td>...</td>\n",
       "      <td>...</td>\n",
       "      <td>...</td>\n",
       "      <td>...</td>\n",
       "      <td>...</td>\n",
       "      <td>...</td>\n",
       "      <td>...</td>\n",
       "      <td>...</td>\n",
       "      <td>...</td>\n",
       "      <td>...</td>\n",
       "      <td>...</td>\n",
       "      <td>...</td>\n",
       "      <td>...</td>\n",
       "      <td>...</td>\n",
       "      <td>...</td>\n",
       "      <td>...</td>\n",
       "      <td>...</td>\n",
       "      <td>...</td>\n",
       "      <td>...</td>\n",
       "    </tr>\n",
       "    <tr>\n",
       "      <th>16914</th>\n",
       "      <td>48000578</td>\n",
       "      <td>12</td>\n",
       "      <td>e+</td>\n",
       "      <td>False</td>\n",
       "      <td>10</td>\n",
       "      <td>5.632931</td>\n",
       "      <td>160.246964</td>\n",
       "      <td>359.819855</td>\n",
       "      <td>5.739192e+11</td>\n",
       "      <td>4.114982</td>\n",
       "      <td>...</td>\n",
       "      <td>0.428583</td>\n",
       "      <td>-0.218410</td>\n",
       "      <td>0.594145</td>\n",
       "      <td>0.408519</td>\n",
       "      <td>conv</td>\n",
       "      <td>NaN</td>\n",
       "      <td>NaN</td>\n",
       "      <td>NaN</td>\n",
       "      <td>NaN</td>\n",
       "      <td>NaN</td>\n",
       "    </tr>\n",
       "    <tr>\n",
       "      <th>17088</th>\n",
       "      <td>48000583</td>\n",
       "      <td>10</td>\n",
       "      <td>e+</td>\n",
       "      <td>False</td>\n",
       "      <td>8</td>\n",
       "      <td>44.941730</td>\n",
       "      <td>133.071289</td>\n",
       "      <td>279.102692</td>\n",
       "      <td>1.279542e+11</td>\n",
       "      <td>41.517563</td>\n",
       "      <td>...</td>\n",
       "      <td>0.307141</td>\n",
       "      <td>-1.086026</td>\n",
       "      <td>-0.062326</td>\n",
       "      <td>0.729482</td>\n",
       "      <td>conv</td>\n",
       "      <td>NaN</td>\n",
       "      <td>NaN</td>\n",
       "      <td>NaN</td>\n",
       "      <td>NaN</td>\n",
       "      <td>NaN</td>\n",
       "    </tr>\n",
       "    <tr>\n",
       "      <th>17206</th>\n",
       "      <td>48000587</td>\n",
       "      <td>20</td>\n",
       "      <td>e+</td>\n",
       "      <td>False</td>\n",
       "      <td>18</td>\n",
       "      <td>-130.026337</td>\n",
       "      <td>83.378456</td>\n",
       "      <td>45.977463</td>\n",
       "      <td>3.274947e+10</td>\n",
       "      <td>-131.773727</td>\n",
       "      <td>...</td>\n",
       "      <td>-0.480558</td>\n",
       "      <td>0.006314</td>\n",
       "      <td>-0.159060</td>\n",
       "      <td>0.208303</td>\n",
       "      <td>conv</td>\n",
       "      <td>NaN</td>\n",
       "      <td>NaN</td>\n",
       "      <td>NaN</td>\n",
       "      <td>NaN</td>\n",
       "      <td>NaN</td>\n",
       "    </tr>\n",
       "    <tr>\n",
       "      <th>17354</th>\n",
       "      <td>48000592</td>\n",
       "      <td>10</td>\n",
       "      <td>e+</td>\n",
       "      <td>False</td>\n",
       "      <td>8</td>\n",
       "      <td>-34.752441</td>\n",
       "      <td>87.883118</td>\n",
       "      <td>185.660828</td>\n",
       "      <td>4.269499e+09</td>\n",
       "      <td>-35.024586</td>\n",
       "      <td>...</td>\n",
       "      <td>-0.020264</td>\n",
       "      <td>-0.844150</td>\n",
       "      <td>-0.838405</td>\n",
       "      <td>0.784008</td>\n",
       "      <td>conv</td>\n",
       "      <td>NaN</td>\n",
       "      <td>NaN</td>\n",
       "      <td>NaN</td>\n",
       "      <td>NaN</td>\n",
       "      <td>NaN</td>\n",
       "    </tr>\n",
       "    <tr>\n",
       "      <th>17431</th>\n",
       "      <td>48000595</td>\n",
       "      <td>14</td>\n",
       "      <td>e+</td>\n",
       "      <td>False</td>\n",
       "      <td>12</td>\n",
       "      <td>90.245865</td>\n",
       "      <td>47.955524</td>\n",
       "      <td>50.943405</td>\n",
       "      <td>4.156468e+10</td>\n",
       "      <td>140.458649</td>\n",
       "      <td>...</td>\n",
       "      <td>0.990751</td>\n",
       "      <td>-1.173131</td>\n",
       "      <td>-1.147988</td>\n",
       "      <td>1.473143</td>\n",
       "      <td>conv</td>\n",
       "      <td>NaN</td>\n",
       "      <td>NaN</td>\n",
       "      <td>NaN</td>\n",
       "      <td>NaN</td>\n",
       "      <td>NaN</td>\n",
       "    </tr>\n",
       "  </tbody>\n",
       "</table>\n",
       "<p>144 rows × 25 columns</p>\n",
       "</div>"
      ],
      "text/plain": [
       "       event_id  particle_id particle_name  primary  mother_id   initial_x  \\\n",
       "456    48000040           20            e+    False         18  -11.518599   \n",
       "555    48000043           10            e+    False          8    4.722394   \n",
       "863    48000053           10            e+    False          8  -14.303410   \n",
       "1007   48000058           10            e+    False          8   20.028671   \n",
       "1081   48000060           15            e+    False         13 -110.273911   \n",
       "...         ...          ...           ...      ...        ...         ...   \n",
       "16914  48000578           12            e+    False         10    5.632931   \n",
       "17088  48000583           10            e+    False          8   44.941730   \n",
       "17206  48000587           20            e+    False         18 -130.026337   \n",
       "17354  48000592           10            e+    False          8  -34.752441   \n",
       "17431  48000595           14            e+    False         12   90.245865   \n",
       "\n",
       "        initial_y   initial_z     initial_t     final_x  ...  \\\n",
       "456   -162.121780  265.537903  9.855987e+10  -11.938400  ...   \n",
       "555   -118.117508  265.445435  3.740084e+11   -2.177318  ...   \n",
       "863    -85.066666  221.592911  6.117097e+11  -29.597569  ...   \n",
       "1007   195.548508  115.559586  8.743147e+11    8.101505  ...   \n",
       "1081   -75.572815   75.768661  1.891528e+10  -82.801506  ...   \n",
       "...           ...         ...           ...         ...  ...   \n",
       "16914  160.246964  359.819855  5.739192e+11    4.114982  ...   \n",
       "17088  133.071289  279.102692  1.279542e+11   41.517563  ...   \n",
       "17206   83.378456   45.977463  3.274947e+10 -131.773727  ...   \n",
       "17354   87.883118  185.660828  4.269499e+09  -35.024586  ...   \n",
       "17431   47.955524   50.943405  4.156468e+10  140.458649  ...   \n",
       "\n",
       "       initial_momentum_x  initial_momentum_y  initial_momentum_z kin_energy  \\\n",
       "456              0.527771           -0.622201            0.209745   0.474287   \n",
       "555              0.158148           -0.404890           -0.505273   0.328863   \n",
       "863             -0.079040           -0.766371            0.476666   0.529147   \n",
       "1007             1.011147           -0.163734           -1.271724   1.200033   \n",
       "1081            -0.165789           -1.605877           -0.747052   1.339821   \n",
       "...                   ...                 ...                 ...        ...   \n",
       "16914            0.428583           -0.218410            0.594145   0.408519   \n",
       "17088            0.307141           -1.086026           -0.062326   0.729482   \n",
       "17206           -0.480558            0.006314           -0.159060   0.208303   \n",
       "17354           -0.020264           -0.844150           -0.838405   0.784008   \n",
       "17431            0.990751           -1.173131           -1.147988   1.473143   \n",
       "\n",
       "      creator_proc  final_momentum_x  final_momentum_y  final_momentum_z  \\\n",
       "456           conv               NaN               NaN               NaN   \n",
       "555           conv               NaN               NaN               NaN   \n",
       "863           conv               NaN               NaN               NaN   \n",
       "1007          conv               NaN               NaN               NaN   \n",
       "1081          conv               NaN               NaN               NaN   \n",
       "...            ...               ...               ...               ...   \n",
       "16914         conv               NaN               NaN               NaN   \n",
       "17088         conv               NaN               NaN               NaN   \n",
       "17206         conv               NaN               NaN               NaN   \n",
       "17354         conv               NaN               NaN               NaN   \n",
       "17431         conv               NaN               NaN               NaN   \n",
       "\n",
       "       length final_proc  \n",
       "456       NaN        NaN  \n",
       "555       NaN        NaN  \n",
       "863       NaN        NaN  \n",
       "1007      NaN        NaN  \n",
       "1081      NaN        NaN  \n",
       "...       ...        ...  \n",
       "16914     NaN        NaN  \n",
       "17088     NaN        NaN  \n",
       "17206     NaN        NaN  \n",
       "17354     NaN        NaN  \n",
       "17431     NaN        NaN  \n",
       "\n",
       "[144 rows x 25 columns]"
      ]
     },
     "execution_count": 15,
     "metadata": {},
     "output_type": "execute_result"
    }
   ],
   "source": [
    "mcpart  = dio.load_dst(dir_beersh, 'MC', 'particles')\n",
    "double_scape = mcpart.loc[mcpart['particle_name'] == 'e+'] #vemos los eventos que tienen positrones\n",
    "double_scape"
   ]
  },
  {
   "cell_type": "code",
   "execution_count": 16,
   "id": "034882e1",
   "metadata": {},
   "outputs": [
    {
     "name": "stdout",
     "output_type": "stream",
     "text": [
      "A 25.21891418563923% of the events are double scape in this file\n"
     ]
    }
   ],
   "source": [
    "total_ev = len(mcpart['event_id'].unique())\n",
    "ds_ev =len(double_scape) #number of DS events in this file (i guess?)\n",
    "ds_proportion = ds_ev / total_ev * 100\n",
    "print('A {}% of the events are double scape in this file'.format(ds_proportion))"
   ]
  },
  {
   "cell_type": "code",
   "execution_count": 17,
   "id": "31412db5",
   "metadata": {
    "scrolled": true
   },
   "outputs": [
    {
     "data": {
      "text/html": [
       "<div>\n",
       "<style scoped>\n",
       "    .dataframe tbody tr th:only-of-type {\n",
       "        vertical-align: middle;\n",
       "    }\n",
       "\n",
       "    .dataframe tbody tr th {\n",
       "        vertical-align: top;\n",
       "    }\n",
       "\n",
       "    .dataframe thead th {\n",
       "        text-align: right;\n",
       "    }\n",
       "</style>\n",
       "<table border=\"1\" class=\"dataframe\">\n",
       "  <thead>\n",
       "    <tr style=\"text-align: right;\">\n",
       "      <th></th>\n",
       "      <th>event_id</th>\n",
       "      <th>particle_id</th>\n",
       "      <th>particle_name</th>\n",
       "      <th>primary</th>\n",
       "      <th>mother_id</th>\n",
       "      <th>initial_x</th>\n",
       "      <th>initial_y</th>\n",
       "      <th>initial_z</th>\n",
       "      <th>final_x</th>\n",
       "      <th>final_y</th>\n",
       "      <th>final_z</th>\n",
       "      <th>kin_energy</th>\n",
       "      <th>creator_proc</th>\n",
       "    </tr>\n",
       "  </thead>\n",
       "  <tbody>\n",
       "    <tr>\n",
       "      <th>971</th>\n",
       "      <td>48000057</td>\n",
       "      <td>1</td>\n",
       "      <td>Tl208</td>\n",
       "      <td>True</td>\n",
       "      <td>0</td>\n",
       "      <td>-2.673144</td>\n",
       "      <td>316.112000</td>\n",
       "      <td>274.882629</td>\n",
       "      <td>-2.673144</td>\n",
       "      <td>316.112000</td>\n",
       "      <td>274.882629</td>\n",
       "      <td>0.000000e+00</td>\n",
       "      <td>none</td>\n",
       "    </tr>\n",
       "    <tr>\n",
       "      <th>972</th>\n",
       "      <td>48000057</td>\n",
       "      <td>4</td>\n",
       "      <td>e-</td>\n",
       "      <td>False</td>\n",
       "      <td>1</td>\n",
       "      <td>-2.673144</td>\n",
       "      <td>316.112000</td>\n",
       "      <td>274.882629</td>\n",
       "      <td>-2.566546</td>\n",
       "      <td>315.764038</td>\n",
       "      <td>270.688782</td>\n",
       "      <td>1.107276e+00</td>\n",
       "      <td>RadioactiveDecay</td>\n",
       "    </tr>\n",
       "    <tr>\n",
       "      <th>973</th>\n",
       "      <td>48000057</td>\n",
       "      <td>3</td>\n",
       "      <td>anti_nu_e</td>\n",
       "      <td>False</td>\n",
       "      <td>1</td>\n",
       "      <td>-2.673144</td>\n",
       "      <td>316.112000</td>\n",
       "      <td>274.882629</td>\n",
       "      <td>-12066.769531</td>\n",
       "      <td>12318.017578</td>\n",
       "      <td>-12500.000000</td>\n",
       "      <td>6.938864e-01</td>\n",
       "      <td>RadioactiveDecay</td>\n",
       "    </tr>\n",
       "    <tr>\n",
       "      <th>974</th>\n",
       "      <td>48000057</td>\n",
       "      <td>2</td>\n",
       "      <td>Pb208[3197.711]</td>\n",
       "      <td>False</td>\n",
       "      <td>1</td>\n",
       "      <td>-2.673144</td>\n",
       "      <td>316.112000</td>\n",
       "      <td>274.882629</td>\n",
       "      <td>-2.673144</td>\n",
       "      <td>316.112000</td>\n",
       "      <td>274.882629</td>\n",
       "      <td>6.312242e-06</td>\n",
       "      <td>RadioactiveDecay</td>\n",
       "    </tr>\n",
       "    <tr>\n",
       "      <th>975</th>\n",
       "      <td>48000057</td>\n",
       "      <td>5</td>\n",
       "      <td>Pb208[2614.522]</td>\n",
       "      <td>False</td>\n",
       "      <td>2</td>\n",
       "      <td>-2.673144</td>\n",
       "      <td>316.112000</td>\n",
       "      <td>274.882629</td>\n",
       "      <td>-2.673144</td>\n",
       "      <td>316.112000</td>\n",
       "      <td>274.882629</td>\n",
       "      <td>8.779753e-07</td>\n",
       "      <td>RadioactiveDecay</td>\n",
       "    </tr>\n",
       "    <tr>\n",
       "      <th>976</th>\n",
       "      <td>48000057</td>\n",
       "      <td>7</td>\n",
       "      <td>Pb208</td>\n",
       "      <td>False</td>\n",
       "      <td>5</td>\n",
       "      <td>-2.673144</td>\n",
       "      <td>316.112000</td>\n",
       "      <td>274.882629</td>\n",
       "      <td>-2.673143</td>\n",
       "      <td>316.112000</td>\n",
       "      <td>274.882629</td>\n",
       "      <td>1.764603e-05</td>\n",
       "      <td>RadioactiveDecay</td>\n",
       "    </tr>\n",
       "    <tr>\n",
       "      <th>977</th>\n",
       "      <td>48000057</td>\n",
       "      <td>8</td>\n",
       "      <td>gamma</td>\n",
       "      <td>False</td>\n",
       "      <td>5</td>\n",
       "      <td>-2.673144</td>\n",
       "      <td>316.112000</td>\n",
       "      <td>274.882629</td>\n",
       "      <td>198.320801</td>\n",
       "      <td>107.099648</td>\n",
       "      <td>412.695923</td>\n",
       "      <td>2.614504e+00</td>\n",
       "      <td>RadioactiveDecay</td>\n",
       "    </tr>\n",
       "    <tr>\n",
       "      <th>978</th>\n",
       "      <td>48000057</td>\n",
       "      <td>6</td>\n",
       "      <td>gamma</td>\n",
       "      <td>False</td>\n",
       "      <td>2</td>\n",
       "      <td>-2.673144</td>\n",
       "      <td>316.112000</td>\n",
       "      <td>274.882629</td>\n",
       "      <td>-20.170385</td>\n",
       "      <td>277.109039</td>\n",
       "      <td>285.346680</td>\n",
       "      <td>5.831881e-01</td>\n",
       "      <td>RadioactiveDecay</td>\n",
       "    </tr>\n",
       "    <tr>\n",
       "      <th>979</th>\n",
       "      <td>48000057</td>\n",
       "      <td>20</td>\n",
       "      <td>e-</td>\n",
       "      <td>False</td>\n",
       "      <td>6</td>\n",
       "      <td>-20.170385</td>\n",
       "      <td>277.109039</td>\n",
       "      <td>285.346680</td>\n",
       "      <td>-20.174618</td>\n",
       "      <td>277.098969</td>\n",
       "      <td>285.344391</td>\n",
       "      <td>1.737284e-01</td>\n",
       "      <td>phot</td>\n",
       "    </tr>\n",
       "    <tr>\n",
       "      <th>980</th>\n",
       "      <td>48000057</td>\n",
       "      <td>19</td>\n",
       "      <td>e-</td>\n",
       "      <td>False</td>\n",
       "      <td>6</td>\n",
       "      <td>-23.684223</td>\n",
       "      <td>290.451080</td>\n",
       "      <td>295.293884</td>\n",
       "      <td>-23.685078</td>\n",
       "      <td>290.451233</td>\n",
       "      <td>295.294342</td>\n",
       "      <td>4.106315e-02</td>\n",
       "      <td>compt</td>\n",
       "    </tr>\n",
       "    <tr>\n",
       "      <th>981</th>\n",
       "      <td>48000057</td>\n",
       "      <td>18</td>\n",
       "      <td>e-</td>\n",
       "      <td>False</td>\n",
       "      <td>6</td>\n",
       "      <td>-20.867168</td>\n",
       "      <td>292.510345</td>\n",
       "      <td>295.522858</td>\n",
       "      <td>-20.866013</td>\n",
       "      <td>292.509460</td>\n",
       "      <td>295.522430</td>\n",
       "      <td>5.273851e-02</td>\n",
       "      <td>compt</td>\n",
       "    </tr>\n",
       "    <tr>\n",
       "      <th>982</th>\n",
       "      <td>48000057</td>\n",
       "      <td>17</td>\n",
       "      <td>e-</td>\n",
       "      <td>False</td>\n",
       "      <td>6</td>\n",
       "      <td>-20.822010</td>\n",
       "      <td>298.762726</td>\n",
       "      <td>297.365784</td>\n",
       "      <td>-20.830118</td>\n",
       "      <td>298.765442</td>\n",
       "      <td>297.385498</td>\n",
       "      <td>2.631632e-01</td>\n",
       "      <td>compt</td>\n",
       "    </tr>\n",
       "    <tr>\n",
       "      <th>983</th>\n",
       "      <td>48000057</td>\n",
       "      <td>16</td>\n",
       "      <td>e-</td>\n",
       "      <td>False</td>\n",
       "      <td>6</td>\n",
       "      <td>-18.610079</td>\n",
       "      <td>301.140930</td>\n",
       "      <td>292.233002</td>\n",
       "      <td>-18.610600</td>\n",
       "      <td>301.140533</td>\n",
       "      <td>292.232697</td>\n",
       "      <td>3.443759e-02</td>\n",
       "      <td>compt</td>\n",
       "    </tr>\n",
       "    <tr>\n",
       "      <th>984</th>\n",
       "      <td>48000057</td>\n",
       "      <td>15</td>\n",
       "      <td>e-</td>\n",
       "      <td>False</td>\n",
       "      <td>8</td>\n",
       "      <td>198.320801</td>\n",
       "      <td>107.099648</td>\n",
       "      <td>412.695923</td>\n",
       "      <td>198.322372</td>\n",
       "      <td>107.097328</td>\n",
       "      <td>412.688354</td>\n",
       "      <td>1.425950e-01</td>\n",
       "      <td>phot</td>\n",
       "    </tr>\n",
       "    <tr>\n",
       "      <th>985</th>\n",
       "      <td>48000057</td>\n",
       "      <td>14</td>\n",
       "      <td>e-</td>\n",
       "      <td>False</td>\n",
       "      <td>8</td>\n",
       "      <td>199.082718</td>\n",
       "      <td>107.366936</td>\n",
       "      <td>416.439209</td>\n",
       "      <td>199.070618</td>\n",
       "      <td>107.557434</td>\n",
       "      <td>416.531219</td>\n",
       "      <td>1.786263e-01</td>\n",
       "      <td>compt</td>\n",
       "    </tr>\n",
       "    <tr>\n",
       "      <th>986</th>\n",
       "      <td>48000057</td>\n",
       "      <td>13</td>\n",
       "      <td>e-</td>\n",
       "      <td>False</td>\n",
       "      <td>8</td>\n",
       "      <td>192.957794</td>\n",
       "      <td>117.463699</td>\n",
       "      <td>398.013550</td>\n",
       "      <td>192.960739</td>\n",
       "      <td>117.464027</td>\n",
       "      <td>398.012268</td>\n",
       "      <td>8.249416e-02</td>\n",
       "      <td>compt</td>\n",
       "    </tr>\n",
       "    <tr>\n",
       "      <th>987</th>\n",
       "      <td>48000057</td>\n",
       "      <td>12</td>\n",
       "      <td>e-</td>\n",
       "      <td>False</td>\n",
       "      <td>8</td>\n",
       "      <td>164.965912</td>\n",
       "      <td>126.372787</td>\n",
       "      <td>386.790894</td>\n",
       "      <td>164.965912</td>\n",
       "      <td>126.372787</td>\n",
       "      <td>386.790894</td>\n",
       "      <td>8.795432e-04</td>\n",
       "      <td>compt</td>\n",
       "    </tr>\n",
       "    <tr>\n",
       "      <th>988</th>\n",
       "      <td>48000057</td>\n",
       "      <td>11</td>\n",
       "      <td>e-</td>\n",
       "      <td>False</td>\n",
       "      <td>8</td>\n",
       "      <td>159.041702</td>\n",
       "      <td>128.302628</td>\n",
       "      <td>383.865295</td>\n",
       "      <td>159.041733</td>\n",
       "      <td>128.302628</td>\n",
       "      <td>383.865234</td>\n",
       "      <td>2.335975e-03</td>\n",
       "      <td>compt</td>\n",
       "    </tr>\n",
       "    <tr>\n",
       "      <th>989</th>\n",
       "      <td>48000057</td>\n",
       "      <td>10</td>\n",
       "      <td>e-</td>\n",
       "      <td>False</td>\n",
       "      <td>8</td>\n",
       "      <td>-51.354465</td>\n",
       "      <td>191.333588</td>\n",
       "      <td>309.590973</td>\n",
       "      <td>-17.328390</td>\n",
       "      <td>133.427277</td>\n",
       "      <td>278.083496</td>\n",
       "      <td>1.820692e+00</td>\n",
       "      <td>compt</td>\n",
       "    </tr>\n",
       "    <tr>\n",
       "      <th>990</th>\n",
       "      <td>48000057</td>\n",
       "      <td>24</td>\n",
       "      <td>e-</td>\n",
       "      <td>False</td>\n",
       "      <td>10</td>\n",
       "      <td>-18.485909</td>\n",
       "      <td>133.594269</td>\n",
       "      <td>277.785522</td>\n",
       "      <td>-16.992117</td>\n",
       "      <td>133.613525</td>\n",
       "      <td>277.667145</td>\n",
       "      <td>1.165851e-01</td>\n",
       "      <td>eIoni</td>\n",
       "    </tr>\n",
       "    <tr>\n",
       "      <th>991</th>\n",
       "      <td>48000057</td>\n",
       "      <td>21</td>\n",
       "      <td>e-</td>\n",
       "      <td>False</td>\n",
       "      <td>10</td>\n",
       "      <td>-59.684177</td>\n",
       "      <td>165.213760</td>\n",
       "      <td>286.996582</td>\n",
       "      <td>-66.549248</td>\n",
       "      <td>167.341751</td>\n",
       "      <td>285.939178</td>\n",
       "      <td>3.068867e-01</td>\n",
       "      <td>eIoni</td>\n",
       "    </tr>\n",
       "    <tr>\n",
       "      <th>992</th>\n",
       "      <td>48000057</td>\n",
       "      <td>9</td>\n",
       "      <td>e-</td>\n",
       "      <td>False</td>\n",
       "      <td>8</td>\n",
       "      <td>-8.203841</td>\n",
       "      <td>305.570160</td>\n",
       "      <td>275.432861</td>\n",
       "      <td>-8.232672</td>\n",
       "      <td>305.548462</td>\n",
       "      <td>275.400970</td>\n",
       "      <td>3.773758e-01</td>\n",
       "      <td>compt</td>\n",
       "    </tr>\n",
       "    <tr>\n",
       "      <th>993</th>\n",
       "      <td>48000057</td>\n",
       "      <td>23</td>\n",
       "      <td>gamma</td>\n",
       "      <td>False</td>\n",
       "      <td>10</td>\n",
       "      <td>-18.179239</td>\n",
       "      <td>143.016312</td>\n",
       "      <td>271.523285</td>\n",
       "      <td>-0.889495</td>\n",
       "      <td>129.139557</td>\n",
       "      <td>308.788361</td>\n",
       "      <td>7.240874e-02</td>\n",
       "      <td>eBrem</td>\n",
       "    </tr>\n",
       "    <tr>\n",
       "      <th>994</th>\n",
       "      <td>48000057</td>\n",
       "      <td>26</td>\n",
       "      <td>gamma</td>\n",
       "      <td>False</td>\n",
       "      <td>23</td>\n",
       "      <td>-0.889495</td>\n",
       "      <td>129.139557</td>\n",
       "      <td>308.788361</td>\n",
       "      <td>-0.117991</td>\n",
       "      <td>133.403229</td>\n",
       "      <td>302.255402</td>\n",
       "      <td>2.978130e-02</td>\n",
       "      <td>phot</td>\n",
       "    </tr>\n",
       "    <tr>\n",
       "      <th>995</th>\n",
       "      <td>48000057</td>\n",
       "      <td>22</td>\n",
       "      <td>gamma</td>\n",
       "      <td>False</td>\n",
       "      <td>10</td>\n",
       "      <td>-23.516851</td>\n",
       "      <td>143.176254</td>\n",
       "      <td>268.092834</td>\n",
       "      <td>-20.763380</td>\n",
       "      <td>142.326385</td>\n",
       "      <td>269.160370</td>\n",
       "      <td>9.949820e-03</td>\n",
       "      <td>eBrem</td>\n",
       "    </tr>\n",
       "    <tr>\n",
       "      <th>996</th>\n",
       "      <td>48000057</td>\n",
       "      <td>28</td>\n",
       "      <td>e-</td>\n",
       "      <td>False</td>\n",
       "      <td>22</td>\n",
       "      <td>-20.763380</td>\n",
       "      <td>142.326385</td>\n",
       "      <td>269.160370</td>\n",
       "      <td>-20.769512</td>\n",
       "      <td>142.334488</td>\n",
       "      <td>269.163544</td>\n",
       "      <td>9.023260e-03</td>\n",
       "      <td>phot</td>\n",
       "    </tr>\n",
       "    <tr>\n",
       "      <th>997</th>\n",
       "      <td>48000057</td>\n",
       "      <td>27</td>\n",
       "      <td>e-</td>\n",
       "      <td>False</td>\n",
       "      <td>26</td>\n",
       "      <td>-0.117991</td>\n",
       "      <td>133.403229</td>\n",
       "      <td>302.255402</td>\n",
       "      <td>-0.132187</td>\n",
       "      <td>133.365173</td>\n",
       "      <td>302.193970</td>\n",
       "      <td>2.500660e-02</td>\n",
       "      <td>phot</td>\n",
       "    </tr>\n",
       "    <tr>\n",
       "      <th>998</th>\n",
       "      <td>48000057</td>\n",
       "      <td>25</td>\n",
       "      <td>e-</td>\n",
       "      <td>False</td>\n",
       "      <td>23</td>\n",
       "      <td>-0.889495</td>\n",
       "      <td>129.139557</td>\n",
       "      <td>308.788361</td>\n",
       "      <td>-0.934176</td>\n",
       "      <td>129.176895</td>\n",
       "      <td>308.794373</td>\n",
       "      <td>3.785275e-02</td>\n",
       "      <td>phot</td>\n",
       "    </tr>\n",
       "  </tbody>\n",
       "</table>\n",
       "</div>"
      ],
      "text/plain": [
       "     event_id  particle_id    particle_name  primary  mother_id   initial_x  \\\n",
       "971  48000057            1            Tl208     True          0   -2.673144   \n",
       "972  48000057            4               e-    False          1   -2.673144   \n",
       "973  48000057            3        anti_nu_e    False          1   -2.673144   \n",
       "974  48000057            2  Pb208[3197.711]    False          1   -2.673144   \n",
       "975  48000057            5  Pb208[2614.522]    False          2   -2.673144   \n",
       "976  48000057            7            Pb208    False          5   -2.673144   \n",
       "977  48000057            8            gamma    False          5   -2.673144   \n",
       "978  48000057            6            gamma    False          2   -2.673144   \n",
       "979  48000057           20               e-    False          6  -20.170385   \n",
       "980  48000057           19               e-    False          6  -23.684223   \n",
       "981  48000057           18               e-    False          6  -20.867168   \n",
       "982  48000057           17               e-    False          6  -20.822010   \n",
       "983  48000057           16               e-    False          6  -18.610079   \n",
       "984  48000057           15               e-    False          8  198.320801   \n",
       "985  48000057           14               e-    False          8  199.082718   \n",
       "986  48000057           13               e-    False          8  192.957794   \n",
       "987  48000057           12               e-    False          8  164.965912   \n",
       "988  48000057           11               e-    False          8  159.041702   \n",
       "989  48000057           10               e-    False          8  -51.354465   \n",
       "990  48000057           24               e-    False         10  -18.485909   \n",
       "991  48000057           21               e-    False         10  -59.684177   \n",
       "992  48000057            9               e-    False          8   -8.203841   \n",
       "993  48000057           23            gamma    False         10  -18.179239   \n",
       "994  48000057           26            gamma    False         23   -0.889495   \n",
       "995  48000057           22            gamma    False         10  -23.516851   \n",
       "996  48000057           28               e-    False         22  -20.763380   \n",
       "997  48000057           27               e-    False         26   -0.117991   \n",
       "998  48000057           25               e-    False         23   -0.889495   \n",
       "\n",
       "      initial_y   initial_z       final_x       final_y       final_z  \\\n",
       "971  316.112000  274.882629     -2.673144    316.112000    274.882629   \n",
       "972  316.112000  274.882629     -2.566546    315.764038    270.688782   \n",
       "973  316.112000  274.882629 -12066.769531  12318.017578 -12500.000000   \n",
       "974  316.112000  274.882629     -2.673144    316.112000    274.882629   \n",
       "975  316.112000  274.882629     -2.673144    316.112000    274.882629   \n",
       "976  316.112000  274.882629     -2.673143    316.112000    274.882629   \n",
       "977  316.112000  274.882629    198.320801    107.099648    412.695923   \n",
       "978  316.112000  274.882629    -20.170385    277.109039    285.346680   \n",
       "979  277.109039  285.346680    -20.174618    277.098969    285.344391   \n",
       "980  290.451080  295.293884    -23.685078    290.451233    295.294342   \n",
       "981  292.510345  295.522858    -20.866013    292.509460    295.522430   \n",
       "982  298.762726  297.365784    -20.830118    298.765442    297.385498   \n",
       "983  301.140930  292.233002    -18.610600    301.140533    292.232697   \n",
       "984  107.099648  412.695923    198.322372    107.097328    412.688354   \n",
       "985  107.366936  416.439209    199.070618    107.557434    416.531219   \n",
       "986  117.463699  398.013550    192.960739    117.464027    398.012268   \n",
       "987  126.372787  386.790894    164.965912    126.372787    386.790894   \n",
       "988  128.302628  383.865295    159.041733    128.302628    383.865234   \n",
       "989  191.333588  309.590973    -17.328390    133.427277    278.083496   \n",
       "990  133.594269  277.785522    -16.992117    133.613525    277.667145   \n",
       "991  165.213760  286.996582    -66.549248    167.341751    285.939178   \n",
       "992  305.570160  275.432861     -8.232672    305.548462    275.400970   \n",
       "993  143.016312  271.523285     -0.889495    129.139557    308.788361   \n",
       "994  129.139557  308.788361     -0.117991    133.403229    302.255402   \n",
       "995  143.176254  268.092834    -20.763380    142.326385    269.160370   \n",
       "996  142.326385  269.160370    -20.769512    142.334488    269.163544   \n",
       "997  133.403229  302.255402     -0.132187    133.365173    302.193970   \n",
       "998  129.139557  308.788361     -0.934176    129.176895    308.794373   \n",
       "\n",
       "       kin_energy      creator_proc  \n",
       "971  0.000000e+00              none  \n",
       "972  1.107276e+00  RadioactiveDecay  \n",
       "973  6.938864e-01  RadioactiveDecay  \n",
       "974  6.312242e-06  RadioactiveDecay  \n",
       "975  8.779753e-07  RadioactiveDecay  \n",
       "976  1.764603e-05  RadioactiveDecay  \n",
       "977  2.614504e+00  RadioactiveDecay  \n",
       "978  5.831881e-01  RadioactiveDecay  \n",
       "979  1.737284e-01              phot  \n",
       "980  4.106315e-02             compt  \n",
       "981  5.273851e-02             compt  \n",
       "982  2.631632e-01             compt  \n",
       "983  3.443759e-02             compt  \n",
       "984  1.425950e-01              phot  \n",
       "985  1.786263e-01             compt  \n",
       "986  8.249416e-02             compt  \n",
       "987  8.795432e-04             compt  \n",
       "988  2.335975e-03             compt  \n",
       "989  1.820692e+00             compt  \n",
       "990  1.165851e-01             eIoni  \n",
       "991  3.068867e-01             eIoni  \n",
       "992  3.773758e-01             compt  \n",
       "993  7.240874e-02             eBrem  \n",
       "994  2.978130e-02              phot  \n",
       "995  9.949820e-03             eBrem  \n",
       "996  9.023260e-03              phot  \n",
       "997  2.500660e-02              phot  \n",
       "998  3.785275e-02              phot  "
      ]
     },
     "execution_count": 17,
     "metadata": {},
     "output_type": "execute_result"
    }
   ],
   "source": [
    "mcpart.loc[mcpart['event_id'] == nevent][['event_id', 'particle_id', 'particle_name', 'primary', 'mother_id', 'initial_x', 'initial_y', 'initial_z', 'final_x', 'final_y', 'final_z', 'kin_energy', 'creator_proc']]                                     \n",
    "                                                                                 "
   ]
  },
  {
   "cell_type": "code",
   "execution_count": 18,
   "id": "e5ee4b9b",
   "metadata": {
    "scrolled": true
   },
   "outputs": [],
   "source": [
    "mchits  = dio.load_dst(dir_beersh, 'MC', 'hits')\n",
    "summary = dio.load_dst(dir_beersh, 'Summary', 'Events')\n",
    "#mchits"
   ]
  },
  {
   "cell_type": "markdown",
   "id": "352ffc42",
   "metadata": {},
   "source": [
    "Ploteamos con el particle id para ver cual es el electron que hace la traza etc..."
   ]
  },
  {
   "cell_type": "code",
   "execution_count": 19,
   "id": "bcc10f70",
   "metadata": {},
   "outputs": [],
   "source": [
    "event_hits = mchits.loc[mchits['event_id'] == nevent]"
   ]
  },
  {
   "cell_type": "code",
   "execution_count": 20,
   "id": "dd56d2fd",
   "metadata": {
    "scrolled": false
   },
   "outputs": [
    {
     "data": {
      "image/png": "[encoded data removed]",
      "text/plain": [
       "<Figure size 1080x1080 with 2 Axes>"
      ]
     },
     "metadata": {
      "needs_background": "light"
     },
     "output_type": "display_data"
    }
   ],
   "source": [
    "plot_3d_hits_double(event_hits, None, double = False, value = 'particle_id')"
   ]
  },
  {
   "cell_type": "markdown",
   "id": "70a2cd30",
   "metadata": {},
   "source": [
    "Por norma general, por lo que veo tenemos que del fotón energético de 2.46MeV salen muchos electrones por compton y fotoelectrico, pero el más energético entiendo que es el que hace toda la traza y se considera como bkg... El resto de electrones vemos que practicamente ni se mueven..."
   ]
  },
  {
   "cell_type": "markdown",
   "id": "4894bbb7",
   "metadata": {},
   "source": [
    "# CLOUDS Y FUNCIONES PARA LABELLING"
   ]
  },
  {
   "cell_type": "markdown",
   "id": "7cad3c56",
   "metadata": {},
   "source": [
    "Veamos qué hace el repositorio de clouds de JA."
   ]
  },
  {
   "cell_type": "markdown",
   "id": "c973b640",
   "metadata": {},
   "source": [
    "## Cosas necesarias para hacer los histogramas"
   ]
  },
  {
   "cell_type": "code",
   "execution_count": 21,
   "id": "76a88461",
   "metadata": {},
   "outputs": [],
   "source": [
    "detector_frame = np.array([[[0] * 550]* 440]*440) \n",
    "#entiendo que mi array de imagen del detector sería algo asín, sin importar el contenido pero con el tamaño optimo"
   ]
  },
  {
   "cell_type": "code",
   "execution_count": 22,
   "id": "08a160ff",
   "metadata": {},
   "outputs": [
    {
     "data": {
      "text/plain": [
       "(440, 440, 550)"
      ]
     },
     "execution_count": 22,
     "metadata": {},
     "output_type": "execute_result"
    }
   ],
   "source": [
    "detector_frame.shape"
   ]
  },
  {
   "cell_type": "markdown",
   "id": "fc46a9ab",
   "metadata": {},
   "source": [
    "Ahora, si quiero bines más grandes pero que las dimensiones coincidan (rollo que haya igual 440 de máximo pero que en vez de ir de uno en uno vayan de x en x) tengo que hacer img_shape con dimensión/x y poner un step = x en mi función, por ejemplo:"
   ]
  },
  {
   "cell_type": "markdown",
   "id": "4ee827d2",
   "metadata": {},
   "source": [
    "Esto lo hago en la función container creator. Dices pues quiero este tamaño total, este tamaño de voxel y te creo el detector_frame q te de estas características:"
   ]
  },
  {
   "cell_type": "code",
   "execution_count": 23,
   "id": "1fac8524",
   "metadata": {},
   "outputs": [],
   "source": [
    "def container_creator(total_size, voxel_size):\n",
    "    '''\n",
    "    Creates a container of the required size in order to get the bin_creator() function create exactly the needed bins\n",
    "    \n",
    "    Args:\n",
    "        total_size: TUPLE or LIST-like\n",
    "    Maximum size of the container in each axis.\n",
    "    \n",
    "        voxel_size: TUPLE or LIST-like\n",
    "    Size of the voxel for each axis.\n",
    "    \n",
    "    RETURN:\n",
    "        img: NUMPYARRAY\n",
    "    Container with the desired shape.\n",
    "    \n",
    "    '''\n",
    "    xmaxsize, ymaxsize, zmaxsize = total_size[0], total_size[1], total_size[2]\n",
    "    \n",
    "    if voxel_size == None:\n",
    "        voxel_size = (1., 1., 1.)\n",
    "        \n",
    "    xvoxsize, yvoxsize, zvoxsize = voxel_size[0], voxel_size[1], voxel_size[2]\n",
    "    \n",
    "    img = np.array([[[0] * int(zmaxsize / zvoxsize)] * int(ymaxsize / yvoxsize)] * int(xmaxsize / xvoxsize))\n",
    "    return img"
   ]
  },
  {
   "cell_type": "code",
   "execution_count": 24,
   "id": "4f299eec",
   "metadata": {},
   "outputs": [],
   "source": [
    "def container_creator_test(total_size, voxel_size):\n",
    "    img = container_creator(total_size, voxel_size)\n",
    "    \n",
    "    for maxsize, voxsize, shape in zip(total_size, voxel_size, img.shape):\n",
    "        assert int(maxsize/voxsize) == shape"
   ]
  },
  {
   "cell_type": "code",
   "execution_count": 25,
   "id": "8529c4fa",
   "metadata": {},
   "outputs": [],
   "source": [
    "total_size = (440, 440, 550) \n",
    "voxel_size = (5, 5, 5) #equivalent to step\n",
    "start_bin = (-220, -220, 0) #equivalent to x0"
   ]
  },
  {
   "cell_type": "markdown",
   "id": "3a033be2",
   "metadata": {},
   "source": [
    "Quizás adaptar las funciones para que en vez de poner total_size ponga simplemente max y min bin (este último sería x0), y con eso pos ya saco el totalsize obviamente.. y a mayores solo tendria que decir el step (voxel_size)"
   ]
  },
  {
   "cell_type": "code",
   "execution_count": 26,
   "id": "edcd8a05",
   "metadata": {},
   "outputs": [],
   "source": [
    "container_creator_test(total_size, voxel_size)"
   ]
  },
  {
   "cell_type": "code",
   "execution_count": 27,
   "id": "734e7b26",
   "metadata": {},
   "outputs": [],
   "source": [
    "detector_frame = container_creator(total_size, voxel_size)"
   ]
  },
  {
   "cell_type": "code",
   "execution_count": 28,
   "id": "8827d8f0",
   "metadata": {},
   "outputs": [
    {
     "data": {
      "text/plain": [
       "(88, 88, 110)"
      ]
     },
     "execution_count": 28,
     "metadata": {},
     "output_type": "execute_result"
    }
   ],
   "source": [
    "detector_frame.shape"
   ]
  },
  {
   "cell_type": "markdown",
   "id": "31674787",
   "metadata": {},
   "source": [
    "Supongo que si quiero poner un step que no coincida bien con el tamaño max, puedo cambiar el tamaño max a algo más grande, ya que no importa si sobra (simplemente ningún hit se depositará ahí)"
   ]
  },
  {
   "cell_type": "markdown",
   "id": "6e49dff0",
   "metadata": {},
   "source": [
    "## Primera función que crea los bins en el detector"
   ]
  },
  {
   "cell_type": "markdown",
   "id": "b7e48d27",
   "metadata": {},
   "source": [
    "Toma img, que es un array de cierta dimensión y nos devuelve los bines en cada dimensión. Por ejemplo un array 2x5 con steps y x0 none nos devolverá un array [0, 1, 2] y otro [0, 1, 2, 3, 4, 5]. "
   ]
  },
  {
   "cell_type": "code",
   "execution_count": 29,
   "id": "6606a8bc",
   "metadata": {},
   "outputs": [],
   "source": [
    "def bin_creator(img, steps = None, x0 = None):\n",
    "    '''\n",
    "    This function creates the bins for an histogram given a certain space.\n",
    "    The size of the bins is controled by the steps and the max value of the bins by the img shape.\n",
    "    \n",
    "    Args:\n",
    "        img: NUMPYARRAY\n",
    "    Its shape provides the maximum value of the bins.\n",
    "        \n",
    "        steps: TUPLE (default = None)\n",
    "    Desired distance between bins (i.e. bin size). The tuple size has to match img ndim.\n",
    "        \n",
    "        x0: TUPLE\n",
    "    Desired lower value for the bins. The tuple size has to match img ndim.\n",
    "    \n",
    "    RETURN:\n",
    "        bins: LIST OF ARRAYS\n",
    "    It returns a ndim long list, in which each element is an array for a spatial coordinate with the desired bins.\n",
    "    \n",
    "    '''\n",
    "    ndim  = img.ndim\n",
    "    shape = img.shape\n",
    "    steps = np.ones(ndim)  if steps is None else steps\n",
    "    x0s   = np.zeros(ndim) if x0    is None else x0\n",
    "\n",
    "    ibins = [np.linspace(0, n, n + 1) for n in shape]\n",
    "    bins  = [x0 + step * ibin for x0, step, ibin in zip(x0s, steps, ibins)]\n",
    "    \n",
    "    return bins"
   ]
  },
  {
   "cell_type": "code",
   "execution_count": 30,
   "id": "cff54015",
   "metadata": {},
   "outputs": [],
   "source": [
    "def bins_test(img, steps = None, x0 = None):\n",
    "    ndim  = img.ndim\n",
    "    shape = img.shape\n",
    "    \n",
    "    bins = bin_creator(img, steps = steps, x0 = x0)\n",
    "    \n",
    "    assert len(bins) == ndim\n",
    "    for length, bine, step, start in zip(shape, bins, steps, x0):\n",
    "        assert len(bine) == length + 1 \n",
    "        for n in bine:\n",
    "            assert n == start\n",
    "            start += step"
   ]
  },
  {
   "cell_type": "markdown",
   "id": "8c9c9356",
   "metadata": {},
   "source": [
    "Mirando en las cosas del año pasado tengo com que en x  e y van de -220 a +220 y luego en z va de 0 a 550... "
   ]
  },
  {
   "cell_type": "markdown",
   "id": "94f937a9",
   "metadata": {},
   "source": [
    "Por tanto el tamaño sería algo asín como 440, 440, 550... "
   ]
  },
  {
   "cell_type": "markdown",
   "id": "ba2d3e2a",
   "metadata": {},
   "source": [
    "Para que coincida con las coordenadas, debo poner x0 en x e y con -220"
   ]
  },
  {
   "cell_type": "code",
   "execution_count": 31,
   "id": "789b3cc5",
   "metadata": {},
   "outputs": [],
   "source": [
    "bins_test(detector_frame, steps = voxel_size, x0 = start_bin)"
   ]
  },
  {
   "cell_type": "code",
   "execution_count": 32,
   "id": "33b90b40",
   "metadata": {},
   "outputs": [],
   "source": [
    "detector_bins = bin_creator(detector_frame, steps = voxel_size, x0 = start_bin)"
   ]
  },
  {
   "cell_type": "markdown",
   "id": "734dd110",
   "metadata": {},
   "source": [
    "## Función para extraer los datos de MC necesarios en los histogramas"
   ]
  },
  {
   "cell_type": "markdown",
   "id": "fc2a5e27",
   "metadata": {},
   "source": [
    "Puedo hacer una función chula que me coja las coordenadas de los hits mc, su energía, sus ids... etc de forma automática en lugar de hacer el tonto"
   ]
  },
  {
   "cell_type": "markdown",
   "id": "cd322a78",
   "metadata": {},
   "source": [
    "Recordar: es exclusiva de MC simplemente por cómo se llaman las columnas del df"
   ]
  },
  {
   "cell_type": "code",
   "execution_count": 33,
   "id": "14898e4c",
   "metadata": {},
   "outputs": [],
   "source": [
    "def get_mchits_info(nevent, df):\n",
    "    '''\n",
    "    Gets the N coordinates, the energy and the particle_id for MC hits.\n",
    "    \n",
    "    Args: \n",
    "        nevent: INT\n",
    "    Number that matches event_id in the data frame\n",
    "    \n",
    "        df: DATAFRAME\n",
    "    Dataframe with the MC hits of a file.\n",
    "    \n",
    "    RETURNS:\n",
    "        mccoors: NUMPYARRAY\n",
    "    Coordinates of the hits. (N, D)\n",
    "    \n",
    "        eners: NUMPYARRAY\n",
    "    Energy of each hit. (N,)\n",
    "    \n",
    "        ids: NUMPYARRAY\n",
    "    Particle identifyer of each hit. (N,)\n",
    "    \n",
    "    '''\n",
    "    event = df.loc[df['event_id'] == nevent]\n",
    "    xhits, yhits, zhits = event['x'], event['y'], event['z']\n",
    "    \n",
    "    mccoors = np.array([xhits, yhits, zhits]).T \n",
    "    eners   = np.array(event['energy'])\n",
    "    ids     = np.array(event['particle_id'])\n",
    "    return mccoors, eners, ids"
   ]
  },
  {
   "cell_type": "code",
   "execution_count": 34,
   "id": "cb6b5590",
   "metadata": {},
   "outputs": [],
   "source": [
    "def get_mchits_info_test(nevent, df):\n",
    "    mccoors, eners, ids = get_mchits_info(nevent, df)\n",
    "    \n",
    "    assert mccoors.shape[0] == eners.shape[0] == ids.shape[0]\n",
    "    assert eners.shape == ids.shape"
   ]
  },
  {
   "cell_type": "code",
   "execution_count": 35,
   "id": "b283f960",
   "metadata": {},
   "outputs": [],
   "source": [
    "get_mchits_info_test(nevent, mchits)"
   ]
  },
  {
   "cell_type": "code",
   "execution_count": 36,
   "id": "9d0f1e15",
   "metadata": {},
   "outputs": [],
   "source": [
    "mccoors, eners, ids = get_mchits_info(nevent, mchits)"
   ]
  },
  {
   "cell_type": "code",
   "execution_count": 37,
   "id": "9235d19d",
   "metadata": {
    "scrolled": true
   },
   "outputs": [
    {
     "data": {
      "text/plain": [
       "((241, 3), (241,), (241,))"
      ]
     },
     "execution_count": 37,
     "metadata": {},
     "output_type": "execute_result"
    }
   ],
   "source": [
    "mccoors.shape, eners.shape, ids.shape"
   ]
  },
  {
   "cell_type": "markdown",
   "id": "501194a1",
   "metadata": {},
   "source": [
    "## Crear un frame que se adapte a cada evento "
   ]
  },
  {
   "cell_type": "markdown",
   "id": "a5affa77",
   "metadata": {},
   "source": [
    "Básicamente es hacer una función que combine un poco lo del container_creator y el bin_creator, pero adaptándolo al tamaño justo (con cierta holgadura) del evento. Pienso que es importante que a pesar de todo los voxeles tengan las mismas coordenadas, es decir, forzar a que los bines coincidan con los del total... aljo así..."
   ]
  },
  {
   "cell_type": "markdown",
   "id": "03b019fa",
   "metadata": {},
   "source": [
    "Por tanto como mínimo tuvimos que crear un detector_frame en el que le decíamos cual era el tamaño total y el de los voxeles a la función container_creator. Esto lo introducimos en bin_creator y obtenemos detector_bins. Estos serán la entrada de nuestra función de reducción (frame_reductor por ejemplo), junto con los hits, y pienso q nada más porque de los bins obtengo ya el step, de los bins con los minimum hits obtengo el x0 y de los bins con max y min hits obtengo el tamaño, todo lo necesario para volver a pasarle el container_creator y obtener el event_frame y con él crear los event_bins :)))"
   ]
  },
  {
   "cell_type": "markdown",
   "id": "75a3bb65",
   "metadata": {},
   "source": [
    "Tendrá de entrada supongo que el detector_frame, o directamente solo los bins del detector_frame (detector_bins i guess) non sei... \n",
    "\n",
    "El x0 serán los voxeles minimos en cada eje, el step lo decido yo"
   ]
  },
  {
   "cell_type": "code",
   "execution_count": 38,
   "id": "d70e0a18",
   "metadata": {},
   "outputs": [
    {
     "name": "stdout",
     "output_type": "stream",
     "text": [
      "-67.19913 -0.11641157 129.13956 190.406 264.72485 315.6864\n"
     ]
    }
   ],
   "source": [
    "minx, maxx = mccoors[:, 0].min(), mccoors[:, 0].max()\n",
    "miny, maxy = mccoors[:, 1].min(), mccoors[:, 1].max()\n",
    "minz, maxz = mccoors[:, 2].min(), mccoors[:, 2].max()\n",
    "print(minx, maxx, miny, maxy, minz, maxz)"
   ]
  },
  {
   "cell_type": "code",
   "execution_count": 39,
   "id": "510d42be",
   "metadata": {},
   "outputs": [
    {
     "data": {
      "text/plain": [
       "[array([-220., -215., -210., -205., -200., -195., -190., -185., -180.,\n",
       "        -175., -170., -165., -160., -155., -150., -145., -140., -135.,\n",
       "        -130., -125., -120., -115., -110., -105., -100.,  -95.,  -90.,\n",
       "         -85.,  -80.,  -75.,  -70.,  -65.,  -60.,  -55.,  -50.,  -45.,\n",
       "         -40.,  -35.,  -30.,  -25.,  -20.,  -15.,  -10.,   -5.,    0.,\n",
       "           5.,   10.,   15.,   20.,   25.,   30.,   35.,   40.,   45.,\n",
       "          50.,   55.,   60.,   65.,   70.,   75.,   80.,   85.,   90.,\n",
       "          95.,  100.,  105.,  110.,  115.,  120.,  125.,  130.,  135.,\n",
       "         140.,  145.,  150.,  155.,  160.,  165.,  170.,  175.,  180.,\n",
       "         185.,  190.,  195.,  200.,  205.,  210.,  215.,  220.]),\n",
       " array([-220., -215., -210., -205., -200., -195., -190., -185., -180.,\n",
       "        -175., -170., -165., -160., -155., -150., -145., -140., -135.,\n",
       "        -130., -125., -120., -115., -110., -105., -100.,  -95.,  -90.,\n",
       "         -85.,  -80.,  -75.,  -70.,  -65.,  -60.,  -55.,  -50.,  -45.,\n",
       "         -40.,  -35.,  -30.,  -25.,  -20.,  -15.,  -10.,   -5.,    0.,\n",
       "           5.,   10.,   15.,   20.,   25.,   30.,   35.,   40.,   45.,\n",
       "          50.,   55.,   60.,   65.,   70.,   75.,   80.,   85.,   90.,\n",
       "          95.,  100.,  105.,  110.,  115.,  120.,  125.,  130.,  135.,\n",
       "         140.,  145.,  150.,  155.,  160.,  165.,  170.,  175.,  180.,\n",
       "         185.,  190.,  195.,  200.,  205.,  210.,  215.,  220.]),\n",
       " array([  0.,   5.,  10.,  15.,  20.,  25.,  30.,  35.,  40.,  45.,  50.,\n",
       "         55.,  60.,  65.,  70.,  75.,  80.,  85.,  90.,  95., 100., 105.,\n",
       "        110., 115., 120., 125., 130., 135., 140., 145., 150., 155., 160.,\n",
       "        165., 170., 175., 180., 185., 190., 195., 200., 205., 210., 215.,\n",
       "        220., 225., 230., 235., 240., 245., 250., 255., 260., 265., 270.,\n",
       "        275., 280., 285., 290., 295., 300., 305., 310., 315., 320., 325.,\n",
       "        330., 335., 340., 345., 350., 355., 360., 365., 370., 375., 380.,\n",
       "        385., 390., 395., 400., 405., 410., 415., 420., 425., 430., 435.,\n",
       "        440., 445., 450., 455., 460., 465., 470., 475., 480., 485., 490.,\n",
       "        495., 500., 505., 510., 515., 520., 525., 530., 535., 540., 545.,\n",
       "        550.])]"
      ]
     },
     "execution_count": 39,
     "metadata": {},
     "output_type": "execute_result"
    }
   ],
   "source": [
    "detector_bins"
   ]
  },
  {
   "cell_type": "code",
   "execution_count": 40,
   "id": "892354a4",
   "metadata": {},
   "outputs": [],
   "source": [
    "def closest_number_bins(innum, bin_array, step, ismin): #maybe add step as arg\n",
    "    '''\n",
    "    This function will round a number to its closest (but yet above it) number in an array. With above it, \n",
    "    it is meant that the original number would always fall inside the interval between the rounded number \n",
    "    in the array and 0 (this explanation is needed for negative numbers). \n",
    "    We want this to get the appropriate bin number depending on whether the number is the minimum or the \n",
    "    maximum coordinate in an event.    \n",
    "    \n",
    "    Args:\n",
    "        innum: FLOAT\n",
    "    Maximum or minimum coordinate for an axis for all the hits in an event.\n",
    "    \n",
    "        bin_array: NUMPYARRAY\n",
    "    Bins for an axis.\n",
    "    \n",
    "        step: INT\n",
    "    Size of the bins.\n",
    "    \n",
    "        ismin: BOOL\n",
    "    True if the innum is the minimum coordinate of the event, False if it is the maximum.\n",
    "    \n",
    "    RETURN:\n",
    "        outnum: FLOAT\n",
    "    Desired number of the bin_array, closest to innum and containing it in an interval between outnum and 0.\n",
    "    \n",
    "    '''\n",
    "    if innum < bin_array[0] or innum > bin_array[-1]:\n",
    "        raise ValueError('Number out of bin boundaries')\n",
    "        \n",
    "    for i in range(len(bin_array) - 1): \n",
    "        if abs(bin_array[i] - innum) < step and abs(bin_array[i + 1] - innum) < step:\n",
    "            if ismin == True:\n",
    "                outnum = bin_array[i]\n",
    "            else:\n",
    "                outnum = bin_array[i + 1]     \n",
    "    return outnum"
   ]
  },
  {
   "cell_type": "code",
   "execution_count": 41,
   "id": "b1be1dd8",
   "metadata": {},
   "outputs": [],
   "source": [
    "def closest_number_bins_test():\n",
    "    bins = np.array([-5, 0, 5]) #mock array\n",
    "    step = abs(bins[0]-bins[1])\n",
    "    assert closest_number_bins(-1, bins, step, True)   == -5\n",
    "    assert closest_number_bins(-1, bins, step, False)  == 0\n",
    "    assert closest_number_bins(2.4, bins, step, True)  == 0\n",
    "    assert closest_number_bins(2.4, bins, step, False) == 5"
   ]
  },
  {
   "cell_type": "code",
   "execution_count": 42,
   "id": "c758b35f",
   "metadata": {},
   "outputs": [],
   "source": [
    "closest_number_bins_test()"
   ]
  },
  {
   "cell_type": "code",
   "execution_count": 43,
   "id": "307ff9ca",
   "metadata": {},
   "outputs": [],
   "source": [
    "def frame_reductor(hits_coord, detector_bins, loose):\n",
    "    '''\n",
    "    This function will reduce the frame of work from the detector size to the size of the event in order\n",
    "    to handle smaller containor arrays.\n",
    "    \n",
    "    Args:\n",
    "        hits_coord: NUMPYARRAY\n",
    "    Coordinates of the hits of an event.\n",
    "    \n",
    "        detector_bins: NUMPYARRAY\n",
    "    Bins for the detector.\n",
    "    \n",
    "        loose: INT\n",
    "    Number of blank voxels to add around the filled voxels in the 3 spatial dimensions.\n",
    "    \n",
    "    RETURNS:\n",
    "        reduced_frame: NUMPYARRAY\n",
    "    Adjusted frame to the event hits.\n",
    "    \n",
    "        reduced_bins: NUMPYARRAY\n",
    "    Adjusted bins to the event hits.\n",
    "    \n",
    "    '''\n",
    "    steps = [abs(bins[0] - bins[1]) for bins in detector_bins]\n",
    "    extremes = [[coor.min(), coor.max()] for coor in hits_coord.T]\n",
    "    extreme_bins = [[closest_number_bins(ex[0], bins, step, True), closest_number_bins(ex[1], bins, step, False)] \n",
    "    for ex, bins, step in zip(extremes, detector_bins, steps)]\n",
    "    \n",
    "    x0 = [x[0] - loose * step for x, step in zip(extreme_bins, steps)]\n",
    "    reduced_size = [abs(ex_bin[0] - ex_bin[1]) + 2 * loose * step \n",
    "                         for ex_bin, step in zip(extreme_bins, steps)]\n",
    "    reduced_frame = container_creator(reduced_size, steps)\n",
    "    reduced_bins = bin_creator(reduced_frame, steps = steps, x0 = x0)\n",
    "    \n",
    "    return reduced_frame, reduced_bins"
   ]
  },
  {
   "cell_type": "code",
   "execution_count": 44,
   "id": "0bc234c7",
   "metadata": {},
   "outputs": [],
   "source": [
    "def frame_reductor_test(nevent, df, total_size, steps = None, x0 = None):\n",
    "    img  = container_creator(total_size, steps)\n",
    "    bins = bin_creator(img, steps = steps, x0 = x0)\n",
    "    mccoors, mcenes, hits_id = get_mchits_info(nevent, df)\n",
    "    \n",
    "    reduced_img, reduced_bins = frame_reductor(mccoors, bins, 2)\n",
    "    \n",
    "    assert reduced_img.ndim == img.ndim\n",
    "    for b, B in zip(reduced_bins, bins):\n",
    "        assert all(np.isin(b, B))"
   ]
  },
  {
   "cell_type": "code",
   "execution_count": 45,
   "id": "e8713bbf",
   "metadata": {},
   "outputs": [],
   "source": [
    "frame_reductor_test(nevent, mchits, total_size, steps = voxel_size, x0 = start_bin)"
   ]
  },
  {
   "cell_type": "code",
   "execution_count": 46,
   "id": "9bfa51ed",
   "metadata": {},
   "outputs": [],
   "source": [
    "loose = 2"
   ]
  },
  {
   "cell_type": "code",
   "execution_count": 47,
   "id": "1ff71ea4",
   "metadata": {},
   "outputs": [],
   "source": [
    "reduced_frame, reduced_bins = frame_reductor(mccoors, detector_bins, loose)"
   ]
  },
  {
   "cell_type": "code",
   "execution_count": 48,
   "id": "336d0d32",
   "metadata": {},
   "outputs": [
    {
     "data": {
      "text/plain": [
       "(88, 88, 110)"
      ]
     },
     "execution_count": 48,
     "metadata": {},
     "output_type": "execute_result"
    }
   ],
   "source": [
    "detector_frame.shape"
   ]
  },
  {
   "cell_type": "markdown",
   "id": "58ada4cd",
   "metadata": {},
   "source": [
    "## Histograma de energías para los hits"
   ]
  },
  {
   "cell_type": "markdown",
   "id": "3d1a0bd3",
   "metadata": {},
   "source": [
    "Estas funciones siempre las puedo hacer algo más... completas, rollo metiendo dentro la función de coger las coors y las mcenes... no sé. \n",
    "\n",
    "Supongo que por ejemplo meter la función container_creator no tiene sentido porque cada vez que quisiera hacer para un evento el histograma me calcularía el img que no hace falta para nada!! En el test lo meto porque es algo que corres una vez así que sin fallo"
   ]
  },
  {
   "cell_type": "code",
   "execution_count": 49,
   "id": "9bddbf17",
   "metadata": {},
   "outputs": [],
   "source": [
    "def mcimg(mccoors, mcenes, bins):\n",
    "    '''\n",
    "    This function creates a D-dimensional histogram weighted with the energies of particle hits.\n",
    "    Thus, it voxelizes the space with certain voxel size and each voxel will contain the energy of\n",
    "    the hits that fall inside.\n",
    "    \n",
    "    Args:\n",
    "        mccoors: NUMPYARRAY\n",
    "    Coordinates of the particle hits. Having N hits, this sould be shaped as (N, D).\n",
    "    \n",
    "        mcenes: NUMPYARRAY\n",
    "    Energies of the particle hits. Having N hits, hits should be shaped as (N,).\n",
    "    \n",
    "        bins: LIST OF ARRAYS\n",
    "    D-dim long list, in which each element is an array for a spatial coordinate with the desired bins.\n",
    "    It matches the bins local variable.\n",
    "    \n",
    "    RETURN:\n",
    "        mcimg: NUMPYARRAY\n",
    "    D-dimensional histogram with the energy counting in the appropriate bin.\n",
    "    '''\n",
    "    mcimg, _  = np.histogramdd(mccoors, bins, weights = mcenes)\n",
    "    \n",
    "    return mcimg"
   ]
  },
  {
   "cell_type": "code",
   "execution_count": 50,
   "id": "b9e9c72e",
   "metadata": {},
   "outputs": [],
   "source": [
    "def mcimg_test(nevent, df, total_size, steps = None, x0 = None):\n",
    "    img  = container_creator(total_size, steps)\n",
    "    bins = bin_creator(img, steps = steps, x0 = x0)\n",
    "    mccoors, mcenes, ids = get_mchits_info(nevent, df)\n",
    "    \n",
    "    voxel_ener = mcimg(mccoors, mcenes, bins)\n",
    "    \n",
    "    assert voxel_ener.shape == img.shape\n",
    "    assert sum(voxel_ener.flatten()) == sum(mcenes)"
   ]
  },
  {
   "cell_type": "markdown",
   "id": "e7e28680",
   "metadata": {},
   "source": [
    "Esta primera función tiene como input img, que será un array (en mi caso de 3 dimensiones, x y z) donde tendremos las dimensiones de la imagen total del detector\n",
    "\n",
    "Luego tiene mccoors, que serán las coordenadas de los hits; mcenes, las energías correspondientes que se toman como weight del histograma. Step y x0 es lo mismo que para bin_creator()"
   ]
  },
  {
   "cell_type": "markdown",
   "id": "3c61e530",
   "metadata": {},
   "source": [
    "## Ejemplo de creación del histograma de energías"
   ]
  },
  {
   "cell_type": "markdown",
   "id": "c912e2bf",
   "metadata": {},
   "source": [
    "Vamos a usar el mcimg"
   ]
  },
  {
   "cell_type": "code",
   "execution_count": 51,
   "id": "d6b8a903",
   "metadata": {},
   "outputs": [],
   "source": [
    "mcimg_test(nevent, mchits, total_size, steps = voxel_size, x0 = start_bin)"
   ]
  },
  {
   "cell_type": "code",
   "execution_count": 52,
   "id": "e2ff11b0",
   "metadata": {},
   "outputs": [],
   "source": [
    "histog = mcimg(mccoors, eners, reduced_bins)"
   ]
  },
  {
   "cell_type": "code",
   "execution_count": 53,
   "id": "836b258d",
   "metadata": {},
   "outputs": [
    {
     "data": {
      "text/plain": [
       "0.33058335562236607"
      ]
     },
     "execution_count": 53,
     "metadata": {},
     "output_type": "execute_result"
    }
   ],
   "source": [
    "histog.max()"
   ]
  },
  {
   "cell_type": "markdown",
   "id": "5ad0411f",
   "metadata": {},
   "source": [
    "Veamos qué coordenadas (DEL ARRAY) son las que tengo que plottear"
   ]
  },
  {
   "cell_type": "code",
   "execution_count": 54,
   "id": "fced68c7",
   "metadata": {},
   "outputs": [],
   "source": [
    "nonzero = histog.nonzero()"
   ]
  },
  {
   "cell_type": "code",
   "execution_count": 55,
   "id": "961da6c3",
   "metadata": {},
   "outputs": [
    {
     "data": {
      "text/plain": [
       "(array([ 2,  2,  2,  2,  2,  3,  3,  3,  3,  3,  3,  3,  3,  4,  4,  4,  4,\n",
       "         4,  4,  4,  4,  5,  5,  5,  5,  5,  6,  6,  7,  7,  8,  8,  8,  9,\n",
       "         9,  9, 10, 11, 12, 12, 12, 12, 12, 12, 12, 13, 13, 13, 15, 15]),\n",
       " array([ 9,  9,  9, 10, 10,  9,  9,  9,  9, 10, 10, 10, 10,  9, 10, 10, 11,\n",
       "        12, 13, 13, 14,  9,  9, 14, 14, 15,  8,  9,  8,  8,  7,  7,  8,  5,\n",
       "         5,  6,  5,  5,  3,  4,  4,  5,  5,  5,  5,  3,  3,  4,  2,  3]),\n",
       " array([ 8,  9, 10,  7,  8,  7,  8, 10, 11,  7,  8, 11, 12,  7,  7, 12, 12,\n",
       "        13, 12, 13, 12,  6,  7, 11, 12, 11,  5,  6,  4,  5,  3,  4,  4,  2,\n",
       "         3,  3,  3,  3,  5,  6,  7,  3,  4,  5,  6,  5,  6,  6, 11, 10]))"
      ]
     },
     "execution_count": 55,
     "metadata": {},
     "output_type": "execute_result"
    }
   ],
   "source": [
    "nonzero #posiciones no nulas del array"
   ]
  },
  {
   "cell_type": "code",
   "execution_count": 56,
   "id": "6d9be1f0",
   "metadata": {},
   "outputs": [
    {
     "data": {
      "text/plain": [
       "array([0.02757102, 0.03041606, 0.01113274, 0.18499449, 0.01001854,\n",
       "       0.02546371, 0.01011337, 0.03580589, 0.02091044, 0.06777012,\n",
       "       0.02114796, 0.00341308, 0.02494408, 0.03238729, 0.02700981,\n",
       "       0.00597365, 0.02235901, 0.0534609 , 0.02804544, 0.03885779,\n",
       "       0.02078804, 0.02177641, 0.00365888, 0.00376001, 0.01166962,\n",
       "       0.0077096 , 0.00605078, 0.09342885, 0.01704196, 0.03016995,\n",
       "       0.00556669, 0.02359172, 0.00608357, 0.01307301, 0.03536161,\n",
       "       0.06616447, 0.05069043, 0.03160696, 0.33058336, 0.07212696,\n",
       "       0.03795532, 0.01280634, 0.03215831, 0.03855471, 0.01732503,\n",
       "       0.00851562, 0.01351113, 0.0032323 , 0.04262745, 0.0297813 ])"
      ]
     },
     "execution_count": 56,
     "metadata": {},
     "output_type": "execute_result"
    }
   ],
   "source": [
    "histog[nonzero] #valor numerico de las coordenadas, es decir, la energía"
   ]
  },
  {
   "cell_type": "markdown",
   "id": "e80b80d8",
   "metadata": {},
   "source": [
    "## Funciones para plotear los datos de histogramas directamente, tanto los hits voxelizados como los voxeles en sí (si lo pasamos a coordenadas, tengo la función en NEXTSPARTSECONVNET pienso)"
   ]
  },
  {
   "cell_type": "markdown",
   "id": "7abcf26d",
   "metadata": {},
   "source": [
    "La funcion q viene intentará visualizar los resultados estes"
   ]
  },
  {
   "cell_type": "code",
   "execution_count": 57,
   "id": "93431492",
   "metadata": {},
   "outputs": [],
   "source": [
    "def plot_3d_histo_hits(hist, bins, cmap = mpl.cm.jet, clabel = 'Energy'):\n",
    "    '''\n",
    "    This function plots the 3 dimension histogram created from the particles hits.\n",
    "    Is a scatter of the bins central positions in order to appreciate all of them.\n",
    "    \n",
    "    Args:\n",
    "        hist: NUMPYARRAY\n",
    "    Histogram of the particle hits of an event (from mcimg function)\n",
    "        bins: LIST OF ARRAYS\n",
    "    D-dim long list, in which each element is an array for a spatial coordinate with the desired bins.\n",
    "    It will give us the correct positions of the hits. (from mcimg function)\n",
    "\n",
    "\n",
    "    '''\n",
    "    #Función para ver los puntos del histograma, siendo los colores la frecuencia de aparicion es decir, las veces\n",
    "    #que un hit cayó en un bin\n",
    "    nonzero = hist.nonzero() #non zero position of the values, i.e. the localization of the points to plot\n",
    "    \n",
    "    fig  = plt.figure(figsize=(15, 15), frameon=False)\n",
    "    gs   = fig.add_gridspec(2, 40)\n",
    "    ax   = fig.add_subplot(gs[0, 0:16], projection = '3d')\n",
    "    axcb = fig.add_subplot(gs[0, 18])\n",
    "    norm = mpl.colors.Normalize(vmin=hist.min(), vmax=hist.max())\n",
    "\n",
    "    m    = mpl.cm.ScalarMappable(norm=norm, cmap=cmap)\n",
    "\n",
    "    colors = np.asarray(np.vectorize(m.to_rgba)(hist[nonzero])) #aqui los valores del histo\n",
    "    colors = np.rollaxis(colors, 0, 2)\n",
    "    \n",
    "    \n",
    "    ax.scatter(bins[0][nonzero[0]], bins[1][nonzero[1]], bins[2][nonzero[2]], c=colors, marker='o')\n",
    "    cb = mpl.colorbar.ColorbarBase(axcb, cmap=cmap, norm=norm, orientation='vertical')\n",
    "\n",
    "    \n",
    "    ax.set_xlabel('X ')\n",
    "    ax.set_ylabel('Y ')\n",
    "    ax.set_zlabel('Z ')\n",
    "    cb.set_label(clabel)\n",
    "    plt.show()"
   ]
  },
  {
   "cell_type": "code",
   "execution_count": 58,
   "id": "17ff9ddc",
   "metadata": {},
   "outputs": [],
   "source": [
    "def plot_3d_histo_vox(hist, bins, th=0, square_voxels = False, edgecolor=None, cmap=mpl.cm.jet, clabel = 'Energy'):\n",
    "    '''\n",
    "    This function plots the 3 dimension histogram created from the particles hits.\n",
    "    This shows the voxels with the containing energy. Note that the axis labels dont represent \n",
    "    \n",
    "    Args:\n",
    "        hist: NUMPYARRAY\n",
    "    Histogram of the particle hits of an event (from mcimg function)\n",
    "    \n",
    "        bins: LIST OF ARRAYS\n",
    "    D-dim long list, in which each element is an array for a spatial coordinate with the desired bins.\n",
    "    It will give us the correct positions of the hits. (from mcimg function)\n",
    "    \n",
    "        th: FLOAT (default = 0)\n",
    "    Threshold for the minimum value of the voxels.\n",
    "    \n",
    "        square_voxels: BOOL (default = False)\n",
    "    If True, the plot will show square voxels because it scales the plot to be equal in each axis.\n",
    "    '''\n",
    "    \n",
    "    nonzero = hist.nonzero()\n",
    "    xmin, xmax = nonzero[0].min(), nonzero[0].max()\n",
    "    ymin, ymax = nonzero[1].min(), nonzero[1].max()\n",
    "    zmin, zmax = nonzero[2].min(), nonzero[2].max()\n",
    "\n",
    "    nbinsX = int(np.ceil((xmax-xmin))) + 2 #esto marca el rango del plot que se verá (el +2 es para que quede 'holgado')\n",
    "    nbinsY = int(np.ceil((ymax-ymin))) + 2\n",
    "    nbinsZ = int(np.ceil((zmax-zmin))) + 2\n",
    "    \n",
    "    if square_voxels == True:\n",
    "        nbinmax = max(nbinsX, nbinsY, nbinsZ) \n",
    "        nbinsX, nbinsY, nbinsZ = nbinmax, nbinmax, nbinmax\n",
    "    \n",
    "    xarr = np.ones(shape=(nbinsX, nbinsY, nbinsZ))*th\n",
    "\n",
    "    nonzeros = np.vstack([nonzero[0]-xmin+1, #esto como que hace que los voxeles se ploteen reseteando posiciones\n",
    "                          nonzero[1]-ymin+1, #es decir, si la posicion mas baja del eje x es 15 y la más alta 20\n",
    "                          nonzero[2]-zmin+1]) #esto hará que se pase a 1 y 5\n",
    "    xarr[tuple(nonzeros)] = hist[nonzero]\n",
    "    dim     = xarr.shape\n",
    "    voxels  = xarr > th\n",
    "\n",
    "    fig  = plt.figure(figsize=(15, 15), frameon=False)\n",
    "    gs   = fig.add_gridspec(2, 40)\n",
    "    ax   = fig.add_subplot(gs[0, 0:16], projection = '3d')\n",
    "    axcb = fig.add_subplot(gs[0, 18])\n",
    "    norm = mpl.colors.Normalize(vmin=xarr.min(), vmax=xarr.max())\n",
    "    m    = mpl.cm.ScalarMappable(norm=norm, cmap=cmap)\n",
    "\n",
    "    colors = np.asarray(np.vectorize(m.to_rgba)(xarr))\n",
    "    colors = np.rollaxis(colors, 0, 4)\n",
    "\n",
    "    ax.voxels(voxels, facecolors=colors, edgecolor=edgecolor)\n",
    "    cb = mpl.colorbar.ColorbarBase(axcb, cmap=cmap, norm=norm, orientation='vertical')\n",
    "    \n",
    "    ax.set_xlabel('X ')\n",
    "    ax.set_xticks(np.arange(nbinsX))\n",
    "    ax.set_xticklabels([int(i) for i in np.unique(bins[0][nonzero[0]])], rotation = 45)\n",
    "    ax.set_ylabel('Y ')\n",
    "    ax.set_yticks(np.arange(nbinsY))\n",
    "    ax.set_yticklabels([int(i) for i in np.unique(bins[1][nonzero[1]])], rotation = -45)\n",
    "    ax.set_zlabel('Z ')\n",
    "    ax.set_zticks(np.arange(nbinsZ))\n",
    "    ax.set_zticklabels([int(i) for i in np.unique(bins[2][nonzero[2]])])\n",
    "    cb.set_label(clabel)\n",
    "\n",
    "    plt.show()"
   ]
  },
  {
   "cell_type": "code",
   "execution_count": 59,
   "id": "864bd293",
   "metadata": {},
   "outputs": [
    {
     "data": {
      "image/png": "[encoded data removed]",
      "text/plain": [
       "<Figure size 1080x1080 with 2 Axes>"
      ]
     },
     "metadata": {
      "needs_background": "light"
     },
     "output_type": "display_data"
    },
    {
     "data": {
      "image/png": "[encoded data removed]",
      "text/plain": [
       "<Figure size 1080x1080 with 2 Axes>"
      ]
     },
     "metadata": {
      "needs_background": "light"
     },
     "output_type": "display_data"
    },
    {
     "data": {
      "image/png": "[encoded data removed]",
      "text/plain": [
       "<Figure size 1080x1080 with 2 Axes>"
      ]
     },
     "metadata": {
      "needs_background": "light"
     },
     "output_type": "display_data"
    }
   ],
   "source": [
    "plot_3d_hits_double(event_hits, None, double = False, value = 'energy')\n",
    "plot_3d_histo_hits(histog, reduced_bins)\n",
    "plot_3d_histo_vox(histog, reduced_bins)"
   ]
  },
  {
   "cell_type": "markdown",
   "id": "8f79e8da",
   "metadata": {},
   "source": [
    "## Aquí exploro un poco lo que es la función mcblobs pero no llego a una conclusión muy sólida..."
   ]
  },
  {
   "cell_type": "code",
   "execution_count": 60,
   "id": "c4aec626",
   "metadata": {},
   "outputs": [],
   "source": [
    "def cells_selection(cells, sel):\n",
    "    return [cell[sel] for cell in cells]"
   ]
  },
  {
   "cell_type": "code",
   "execution_count": 61,
   "id": "340d595f",
   "metadata": {},
   "outputs": [],
   "source": [
    "def mcblobs(img, mccoors, mcenes, mcids, steps = None, x0 = None):\n",
    "    \n",
    "    #entiendo que el mcids solo puede ser 1 o 2, dependiendo del numero de blobs que tenga el evento?\n",
    "    #entiendo tambien que QUIZÁS aqui no hay que meter todas las coords, solo las coords de blob...\n",
    "    #para eso supongo que tendré que tener una definicion de blob.. esto será con Paulina (es decir, isaura)???\n",
    "    bins   = bin_creator(img, steps, x0)\n",
    "    mcblob = np.zeros(img.shape).flatten() #array of zeros with the size of xbinlen * ybinlen * zbinlen\n",
    "    \n",
    "    for i in (1, 2): #quizás esto es para identificar las trazas q tienen blob, rollo después de correr isaura hay \n",
    "        #un dato que es trackID que identifica en un evento cuantas trazas hay y les dá un número\n",
    "        #esto me lleva a pensar también que quizás sea for i in (0, 1) tal y como están numeradas las trackID...\n",
    "        \n",
    "        sel     = mcids == i\n",
    "        if (np.sum(sel) <= 0): continue\n",
    "        #el continue con True vuelve al inicio del for.. entonces aquí solo hace el recorrido cuando mcids == 1 o 2\n",
    "        #y por ejemplo si mcids = 1, tendremos en ese caso sel = True, sum(True)=1, entonces es False el continue \n",
    "        #y corre el resto de cosas bajo el continue\n",
    "        icoors  = cells_selection(mccoors, sel) #esto simplemente selecciona todas esas coordenadas... o eso parece...\n",
    "        \n",
    "########esto de las icoors hace que luego el histograma no vaya bien, y lo de ponerle un [sel] a las mcenes\n",
    "        #ORIGINAL\n",
    "        #etrk, _ = np.histogramdd(icoors, bins, weights = mcenes[sel]) #hace lo que hacía la funcion mcimg pero solo con los hits seleccionados... q entiendo que son todos al ser sel = True o ninguno al ser False\n",
    "        #HECHO POR MI\n",
    "        etrk, _ = np.histogramdd(mccoors, bins, weights = mcenes)\n",
    "        \n",
    "        #tal y como está el histograma como que me da error porque el hecho se hacer cells_selection y lo de \n",
    "        #mcenes[sel] como que me lo convierte en una lista y como que no furrula bien...\n",
    "        \n",
    "        #quizás aqui mccoors tiene que ser otra cosa, pero no se muy bien\n",
    "        \n",
    "        imask   = np.argmax(etrk) #busca el bin con mayor energía (da la posicion como entero, es decir, para localizarlo en un flatten)\n",
    "        mcblob[imask] = etrk.flatten()[imask] #mete en el mapa de coordenadas vacío el voxel con el valor más grande del histograma anterior...\n",
    "        #print(etrk.flatten()[imask])\n",
    "        #print(mcblob.flatten()[imask])\n",
    "    \n",
    "    return mcblob.reshape(img.shape)"
   ]
  },
  {
   "cell_type": "markdown",
   "id": "c5dcd83e",
   "metadata": {},
   "source": [
    "## mcids es un array que por hit tendrá un 1 si es del electron, un 2 si es del positron y un 0 si es otra cosa (por ejemplo)"
   ]
  },
  {
   "cell_type": "code",
   "execution_count": 62,
   "id": "bfdc8018",
   "metadata": {},
   "outputs": [],
   "source": [
    "blob = mcblobs(detector_frame, mccoors, eners, 2, steps = voxel_size, x0 = start_bin) "
   ]
  },
  {
   "cell_type": "code",
   "execution_count": 63,
   "id": "331ad743",
   "metadata": {},
   "outputs": [
    {
     "data": {
      "text/plain": [
       "0.33058335562236607"
      ]
     },
     "execution_count": 63,
     "metadata": {},
     "output_type": "execute_result"
    }
   ],
   "source": [
    "blob.max()"
   ]
  },
  {
   "cell_type": "code",
   "execution_count": 64,
   "id": "39775b59",
   "metadata": {
    "scrolled": true
   },
   "outputs": [
    {
     "data": {
      "image/png": "[encoded data removed]",
      "text/plain": [
       "<Figure size 1080x1080 with 2 Axes>"
      ]
     },
     "metadata": {
      "needs_background": "light"
     },
     "output_type": "display_data"
    }
   ],
   "source": [
    "plot_3d_histo_vox(blob, detector_bins)"
   ]
  },
  {
   "cell_type": "markdown",
   "id": "65154c70",
   "metadata": {},
   "source": [
    "La funcion mcblobs parece que en general lo que hace es clasificar ciertas coordenadas de montecarlo (no sé si el input son todas como hacía antes. No parece porque hace cositas raras con unas listas y tal con la funcion cells_selection, pero no lo sé muy bien...). \n",
    "\n",
    "Luego, busca el voxel que contiene más energía y finalmente nos devuelve un histograma de un único voxel, el más energético (los demás contienen 0)"
   ]
  },
  {
   "cell_type": "markdown",
   "id": "9035d986",
   "metadata": {},
   "source": [
    "## Función de labeling para los IDs de los hits (en este caso probamos con ID de partícula pero luego serán simplemente labels de segmentación)"
   ]
  },
  {
   "cell_type": "markdown",
   "id": "d65f5ac9",
   "metadata": {},
   "source": [
    "Veamos ahora como podemos hacer clasificación de voxeles según la particula que tenga más energía en los hits dentro de cada voxel.."
   ]
  },
  {
   "cell_type": "code",
   "execution_count": 65,
   "id": "c90686a9",
   "metadata": {},
   "outputs": [],
   "source": [
    "unique_parts = np.unique(ids)"
   ]
  },
  {
   "cell_type": "code",
   "execution_count": 66,
   "id": "9fcc6b0f",
   "metadata": {},
   "outputs": [],
   "source": [
    "#for i, uniq in enumerate(unique_parts):\n",
    " #   ids = np.where(ids == uniq, i + 1, ids)"
   ]
  },
  {
   "cell_type": "markdown",
   "id": "b72e1c98",
   "metadata": {},
   "source": [
    "Idea: quizás hay que hacer un histograma por cada partícula, y luego comparar los histogramas para ver cual voxel tiene el mayor número de eventos de dicho tipo?? NON\n"
   ]
  },
  {
   "cell_type": "markdown",
   "id": "6823fff5",
   "metadata": {},
   "source": [
    "Lo que queremos no es la mayor frecuencia de particulas de un tipo, sino las más energéticas... rollo la partícula que deposite más energía de un sólo tipo... entonces pos eso, puedo hacer un histograma de energía por cada partícula (en lugar de un histograma de frecuencia de particulas...)"
   ]
  },
  {
   "cell_type": "markdown",
   "id": "6086474a",
   "metadata": {},
   "source": [
    "Para eso entiendo que en cada evento tengo que ver qué hits hay de cada partícula "
   ]
  },
  {
   "cell_type": "code",
   "execution_count": 67,
   "id": "cc5f9be7",
   "metadata": {},
   "outputs": [
    {
     "data": {
      "text/plain": [
       "241"
      ]
     },
     "execution_count": 67,
     "metadata": {},
     "output_type": "execute_result"
    }
   ],
   "source": [
    "len(ids) "
   ]
  },
  {
   "cell_type": "code",
   "execution_count": 68,
   "id": "c3c9af66",
   "metadata": {},
   "outputs": [
    {
     "data": {
      "text/plain": [
       "241"
      ]
     },
     "execution_count": 68,
     "metadata": {},
     "output_type": "execute_result"
    }
   ],
   "source": [
    "len(mccoors)"
   ]
  },
  {
   "cell_type": "markdown",
   "id": "30e41d01",
   "metadata": {},
   "source": [
    "Creo como una máscara para cada partícula..."
   ]
  },
  {
   "cell_type": "code",
   "execution_count": 69,
   "id": "fe6941db",
   "metadata": {},
   "outputs": [],
   "source": [
    "part_id_mask = ids == 24"
   ]
  },
  {
   "cell_type": "code",
   "execution_count": 70,
   "id": "7fda676f",
   "metadata": {},
   "outputs": [
    {
     "data": {
      "text/plain": [
       "13"
      ]
     },
     "execution_count": 70,
     "metadata": {},
     "output_type": "execute_result"
    }
   ],
   "source": [
    "len(eners[part_id_mask])"
   ]
  },
  {
   "cell_type": "markdown",
   "id": "e37eea04",
   "metadata": {},
   "source": [
    "Lo que queremos es que por ejemplo, si en un voxel caen 8 hits y son de la siguiente forma:\n",
    "- Hit 'a': 3 hits de energías 2, 2, 4    ---> total = 8\n",
    "- Hit 'b': 1 hit  de energía  6          ---> total = 6\n",
    "- Hit 'c': 4 hits de energías 1, 1, 2, 1 ---> total = 5\n",
    "\n",
    "Finalmente, ese voxel se etiquetará como hit 'a' por ser el tipo de hit que deposita más energía"
   ]
  },
  {
   "cell_type": "code",
   "execution_count": 71,
   "id": "0714f0bb",
   "metadata": {},
   "outputs": [],
   "source": [
    "def labelling(img, mccoors, mcenes, hits_id, bins):\n",
    "    '''\n",
    "    This function creates a D-dimensional array that corresponds a voxelized space (we will call it histogram).\n",
    "    The bins of this histogram will take the value of the ID hits that deposit more energy within them.\n",
    "    \n",
    "    i.e., in a voxel with several hits, the function will label the voxel as the kind of hit that layed more energy,\n",
    "    regardless of the number of hits. For a 8 hit voxel:\n",
    "     - Hit A kind: 3 hits with energies 2, 2, 4    ---> total = 8\n",
    "     - Hit B kind: 1 hit  with energy   6          ---> total = 6\n",
    "     - Hit C kind: 4 hits with energies 1, 1, 2, 1 ---> total = 5\n",
    "    This voxel will be labelled as kind A.\n",
    "    \n",
    "    The IDs of the hits may be the kind of particle, or even the segmentation classes (track, blob, other...)\n",
    "    Also, gives an histogram of the energies of the hits for each voxel, using mcimg function.\n",
    "    \n",
    "    Args:\n",
    "        img: NUMPYARRAY\n",
    "    Frame to contain the event.\n",
    "    \n",
    "        mccoors: NUMPYARRAY\n",
    "    Coordinates of the particle hits. Having N hits, this sould be shaped as (N, D).\n",
    "    \n",
    "        mcenes: NUMPYARRAY\n",
    "    Energies of the particle hits. Having N hits, this should be shaped as (N,).\n",
    "    \n",
    "        hits_id: NUMPYARRAY\n",
    "    IDs for each hit. They define the kind of voxeles we will have. Having N hits, this should be shaped as (N,).\n",
    "    \n",
    "        bins: LIST OF ARRAYS\n",
    "    D-dim long list, in which each element is an array for a spatial coordinate with the desired bins.\n",
    "    \n",
    "    RETURN:\n",
    "        mc_hit_id: NUMPYARRAY\n",
    "    D-dimensional histogram with the IDs for the voxels.\n",
    "    \n",
    "        mc_hit_ener: NUMPYARRAY\n",
    "    D-dimensional histogram with the energies of the voxels.\n",
    "    \n",
    "        mc_hit_portion: NUMPYARRAY\n",
    "    D-dimensional histogram with the ratio of the energy of the most important particle to the total energy, per voxel.\n",
    "    \n",
    "    '''\n",
    "    \n",
    "    mc_hit_id      = np.zeros(img.shape)   #array 3d a llenar con los identificadores\n",
    "    mc_hit_portion = np.zeros(img.shape)   #array 3d a llenar con el porcentaje de energía de la total que se lleva la partícula más importante\n",
    "    unique_hits    = np.unique(hits_id)    #lista de identificadores de los hits (identificador puede ser tipo de particula, label, etc...)\n",
    "    \n",
    "    mc_hit_ener    = mcimg(mccoors, mcenes, bins) #histograma de energías \n",
    "\n",
    "    #Bucle en los identificadores de los hits para hacer un histograma de energía por tipo de hit\n",
    "    histograms, nonzero = [], []        #lista de histogramas y de sus coordenadas no nulas\n",
    "\n",
    "    for hit_id in unique_hits:\n",
    "        hit_id_mask = hits_id == hit_id                           #mascara de cada tipo de hit\n",
    "        vox, _ = np.histogramdd(mccoors[hit_id_mask], \n",
    "                                bins, \n",
    "                                weights = mcenes[hit_id_mask]) #histograma de energia por tipo de hit\n",
    "        histograms.append(vox)                                 #lista de histogramas\n",
    "        nonzero.append(np.array(vox.nonzero()).T)              #lista con las coordenadas no nulas\n",
    "    \n",
    "    #Bucle recorriendo los voxeles no nulos para comparar el valor de cada histograma\n",
    "    \n",
    "    for nz in nonzero: #recorre cada tipo de hit con voxeles no nulos particulares (los hits tipo 1 cayeron en ciertos voxeles, los tipo 2 en otros etc...)\n",
    "        for i in nz:   #aqui recorre cada coordenada de cada tipo de hit\n",
    "            nonzero_coors = tuple(i) \n",
    "            \n",
    "            if mc_hit_id[nonzero_coors] != 0 and mc_hit_portion[nonzero_coors] != 0: \n",
    "                continue        #si cierto voxel ya ha sido llenado (es decir, si su valor no es cero)\n",
    "                                #pasamos de volver a hacerle cosas\n",
    "                \n",
    "            #Bucle en los histogramas para ver cual tiene el valor más grande en cada voxel, \n",
    "            #revelándome así qué tipo de voxel es\n",
    "            \n",
    "            vox_eners = [] #contenedor de los valores de voxel para todos los histogramas\n",
    "            for histo in histograms:\n",
    "                vox_eners.append(histo[nonzero_coors]) \n",
    "                \n",
    "            vox_eners = np.array(vox_eners)\n",
    "            assert len(vox_eners) == len(unique_hits) \n",
    "            selected_id = vox_eners.argmax() #mira la posición del elemento mayor en vox_eners\n",
    "            mc_hit_id[nonzero_coors] = unique_hits[selected_id]   #toma dicha posición de la lista unique_hits y se la asigna a la posición correspondiente en el array vacío \n",
    "            \n",
    "            max_ener   = vox_eners[selected_id]     #energía de la partícula más importante en un voxel \n",
    "            total_ener = mc_hit_ener[nonzero_coors] #la energía total contenida en ese voxel\n",
    "            mc_hit_portion[nonzero_coors] = max_ener / total_ener\n",
    "            \n",
    "    return mc_hit_id, mc_hit_ener, mc_hit_portion"
   ]
  },
  {
   "cell_type": "code",
   "execution_count": 72,
   "id": "b93ea5bd",
   "metadata": {},
   "outputs": [],
   "source": [
    "def labelling_test(nevent, df, total_size, steps = None, x0 = None):\n",
    "    img  = container_creator(total_size, steps)\n",
    "    bins = bin_creator(img, steps = steps, x0 = x0)\n",
    "    mccoors, mcenes, hits_id = get_mchits_info(nevent, df)\n",
    "    \n",
    "    voxel_id, voxel_ener, voxel_portion = labelling(img, mccoors, mcenes, hits_id, bins)\n",
    "    \n",
    "    id_nonzero   = voxel_id.nonzero()\n",
    "    ener_nonzero = voxel_ener.nonzero()\n",
    "    port_nonzero = voxel_portion.nonzero()\n",
    "    \n",
    "    voxel_id_unique = np.unique(voxel_id)\n",
    "    voxel_id_unique = voxel_id_unique[voxel_id_unique != 0]\n",
    "    id_unique       = np.unique(hits_id)\n",
    "        \n",
    "    assert voxel_id.shape == voxel_ener.shape == voxel_portion.shape == img.shape\n",
    "    assert len(id_nonzero) == len(ener_nonzero) == len(port_nonzero)\n",
    "    assert len(id_nonzero[0]) == len(ener_nonzero[0]) == len(port_nonzero[0])\n",
    "    assert voxel_portion.max() <= 1. \n",
    "    assert all(np.isin(voxel_id_unique, id_unique))\n",
    "    for i in range(len(ener_nonzero)):\n",
    "        assert (ener_nonzero[i] == id_nonzero[i]).all() #check if they are the same nonzero coordinates\n",
    "        assert (ener_nonzero[i] == port_nonzero[i]).all()"
   ]
  },
  {
   "cell_type": "markdown",
   "id": "7e858ede",
   "metadata": {},
   "source": [
    "Quizás por limpieza del código hago de esto una función solite pero no lo se :)"
   ]
  },
  {
   "cell_type": "raw",
   "id": "99bac32c",
   "metadata": {},
   "source": [
    "#Bucle en los identificadores de los hits para hacer un histograma de energía por tipo de hit\n",
    "#necesito: unique_hits, hits_id, mccoors, bins, mcenes\n",
    "def per_id_histog():\n",
    "    histograms, nonzero = [], []\n",
    "    \n",
    "    for hit_id in unique_hits:\n",
    "        hit_id_mask = ids == hit_id                            #mascara de cada tipo de hit\n",
    "        vox, _ = np.histogramdd(mccoors[hit_id_mask], \n",
    "                                bins, \n",
    "                                weights = mcenes[hit_id_mask]) #histograma de energia por tipo de hit\n",
    "        histograms.append(vox)                                 #lista de histogramas\n",
    "        nonzero.append(np.array(vox.nonzero()).T)              #lista con las coordenadas no nulas"
   ]
  },
  {
   "cell_type": "markdown",
   "id": "3adc427f",
   "metadata": {},
   "source": [
    "## NOTA: \n",
    "el histograma de ratios este nos servirá no sólo para saber lo bien que están escogidos los voxeles (y así poder justificar cosas), sino también supongo que lo podremos usar como peso a cada voxel una vez entrenando, dándole más peso a los vóxeles que son FOR SURE de un tipo y menos peso a los que son mezcla..."
   ]
  },
  {
   "cell_type": "code",
   "execution_count": 73,
   "id": "0627a1ad",
   "metadata": {},
   "outputs": [],
   "source": [
    "labelling_test(nevent, mchits, total_size, steps = voxel_size, x0 = start_bin)"
   ]
  },
  {
   "cell_type": "code",
   "execution_count": 74,
   "id": "f3424069",
   "metadata": {},
   "outputs": [],
   "source": [
    "particle_voxel, ener_voxel, percentage_voxel = labelling(reduced_frame, mccoors, eners, ids, reduced_bins)"
   ]
  },
  {
   "cell_type": "code",
   "execution_count": 75,
   "id": "f8dffa4a",
   "metadata": {},
   "outputs": [
    {
     "data": {
      "image/png": "[encoded data removed]",
      "text/plain": [
       "<Figure size 1080x1080 with 2 Axes>"
      ]
     },
     "metadata": {
      "needs_background": "light"
     },
     "output_type": "display_data"
    },
    {
     "data": {
      "image/png": "[encoded data removed]",
      "text/plain": [
       "<Figure size 1080x1080 with 2 Axes>"
      ]
     },
     "metadata": {
      "needs_background": "light"
     },
     "output_type": "display_data"
    },
    {
     "data": {
      "image/png": "[encoded data removed]",
      "text/plain": [
       "<Figure size 1080x1080 with 2 Axes>"
      ]
     },
     "metadata": {
      "needs_background": "light"
     },
     "output_type": "display_data"
    }
   ],
   "source": [
    "plot_3d_histo_vox(ener_voxel, reduced_bins)\n",
    "plot_3d_histo_vox(particle_voxel, reduced_bins, clabel = 'particle_id')\n",
    "plot_3d_histo_vox(percentage_voxel, reduced_bins, clabel = 'energy percentage')"
   ]
  },
  {
   "cell_type": "markdown",
   "id": "6e4ec141",
   "metadata": {},
   "source": [
    "Vale, esto luce que funciona bien, pero lo que nos gustaría hacer es en vez de que cada hit sea una partícula, que cada hit sea un label de segmentación"
   ]
  },
  {
   "cell_type": "markdown",
   "id": "83cb45e0",
   "metadata": {},
   "source": [
    "La mayor parte del tiempo ambas coinciden salvo para la traza principal, donde hits de un electrón según en qué parte estén, serán traza o blob..."
   ]
  },
  {
   "cell_type": "markdown",
   "id": "b5525ce1",
   "metadata": {},
   "source": [
    "Lo gordo de relacionar voxel con la partícula que deposita más energía ya está... ahora sería lo mismo cambiando partículas por label... rollo en vez de que un hit se etiquete con un particle_id que se etiquete con un label y ya está, pero la función es la misma... cambiaría sólo el valor del argumento ids :)"
   ]
  },
  {
   "cell_type": "markdown",
   "id": "581a6f59",
   "metadata": {},
   "source": [
    "## Problema de los 0 y los NaN"
   ]
  },
  {
   "cell_type": "markdown",
   "id": "94bbcc2f",
   "metadata": {},
   "source": [
    "Si algun ID es 0 tenemos problem porque hacer lo de NaN no cunde demasiado, porque una vez sale el histograma no le puedes hacer lo de .nonzero() porque los NaN son nonzero tambien!! no te los descarta.."
   ]
  },
  {
   "cell_type": "markdown",
   "id": "15f1c4de",
   "metadata": {},
   "source": [
    "Mirar lo de los Nan... SI NO CONSIGO ARREGLAR LO DE LOS NAN, RECORDAR QUE LAS LABELS NO PUEDEN EMPEZAR EN 0 ENTON, SINO EN 1"
   ]
  },
  {
   "cell_type": "markdown",
   "id": "d6b7b95a",
   "metadata": {},
   "source": [
    "Si cambio lo de las NaN adaptar tb el test!!!"
   ]
  },
  {
   "cell_type": "markdown",
   "id": "a3ce407c",
   "metadata": {},
   "source": [
    "### Tener bien claro que hay como dos niveles: el histograma y las coordenadas\n",
    "- El histograma es un array de la forma del detector con algunos elementos con cierto valor\n",
    "- Las coordenadas vienen de extraer la información del histograma y obtener así la posición y las características de cada voxel, cosa que necesitaríamos para el input de la red neuronal"
   ]
  },
  {
   "cell_type": "markdown",
   "id": "1acdd7a4",
   "metadata": {},
   "source": [
    "Ahora mismo aqui tengo funciones de plot para el nivel histograma, pero por ahí tengo plots de voxel para nivel coordenadas tb (que ha de ser análogo porque estas las saqué de esas...)"
   ]
  },
  {
   "cell_type": "markdown",
   "id": "4e47cc1c",
   "metadata": {},
   "source": [
    "## Función que extrae [coords, eners, IDs] del histograma, para meterlos facilmente como datos etc"
   ]
  },
  {
   "cell_type": "markdown",
   "id": "e6084231",
   "metadata": {},
   "source": [
    "Con ese histograma de salida y esos bins, yo puedo sacar unas coordenadas y un valor que será lo que después añada a los datos... hago una función para eso:"
   ]
  },
  {
   "cell_type": "code",
   "execution_count": 76,
   "id": "7797cf50",
   "metadata": {},
   "outputs": [],
   "source": [
    "def histog_to_coord(id_hist, ener_hist, ratio_hist, bins):\n",
    "    '''\n",
    "    Takes the histogram (i.e. any voxelization) and returns an array of the voxel coordinates, their energies and\n",
    "    ratio energies, and their feature\n",
    "    (the feature can be things like particle ID or segmentation labels).\n",
    "    \n",
    "    Args:\n",
    "        id_hist: NUMPYARRAY\n",
    "    D-dimensional histogram with an ID for each voxel.\n",
    "    \n",
    "        ener_hist: NUMPYARRAY\n",
    "    D-dimensional histogram with the energy for each voxel.\n",
    "    \n",
    "        ratio_hist: NUMPYARRAY\n",
    "    D-dimensional histogram with the ratio of the energy of the most important particle to the total energy, per voxel.\n",
    "    \n",
    "        bins: LIST OF ARRAYS\n",
    "    D-dim long list, in which each element is an array for a spatial coordinate with the desired bins.\n",
    "    \n",
    "    RETURN:\n",
    "        coord: NUMPYARRAY\n",
    "    Coordinates of the nonzero voxels and their feature, with the structure (D-coords, eners, ratio, features).\n",
    "    The array has the length of the number of nonzero elements in the histogram.\n",
    "\n",
    "    '''\n",
    "    ndim          = ener_hist.ndim\n",
    "    ener_nonzero  = ener_hist.nonzero()\n",
    "    id_nonzero    = id_hist.nonzero()\n",
    "    ratio_nonzero = ratio_hist.nonzero()\n",
    "    \n",
    "    nonzero = id_nonzero\n",
    "    coord   = []\n",
    "    for i in range(ndim):\n",
    "        coord.append(bins[i][nonzero[i]])\n",
    "\n",
    "    coord.append(ener_hist[nonzero])\n",
    "    coord.append(ratio_hist[nonzero])\n",
    "    coord.append(id_hist[nonzero])\n",
    "    \n",
    "    coord = np.array(coord).T\n",
    "    assert len(coord) == len(np.array(nonzero).T)\n",
    "    return coord"
   ]
  },
  {
   "cell_type": "code",
   "execution_count": 77,
   "id": "0a294155",
   "metadata": {},
   "outputs": [],
   "source": [
    "def histog_to_coord_test(nevent, df, total_size, steps = None, x0 = None):\n",
    "    img = container_creator(total_size, steps)\n",
    "    bins = bin_creator(img, steps = steps, x0 = x0)\n",
    "\n",
    "    mccoors, mcenes, hits_id = get_mchits_info(nevent, df)\n",
    "    \n",
    "    voxel_id, voxel_ener, voxel_ratio = labelling(img, mccoors, mcenes, hits_id, bins)\n",
    "    coords = histog_to_coord(voxel_id, voxel_ener, voxel_ratio, bins)\n",
    "    \n",
    "    xcoor, ycoor, zcoor, eners, ratio, ids = coords[:, 0], coords[:, 1], coords[:, 2], coords[:, 3], coords[:, 4], coords[:, 5]\n",
    "    assert len(xcoor) == len(ycoor) == len(zcoor) == len(eners) == len(ratio) == len(ids)\n",
    "    assert all(np.isin(xcoor, bins[0]))\n",
    "    assert all(np.isin(ycoor, bins[1]))\n",
    "    assert all(np.isin(zcoor, bins[2]))\n",
    "    assert all(np.isin(eners, voxel_ener))\n",
    "    assert all(np.isin(ratio, voxel_ratio))\n",
    "    assert all(np.isin(ids, hits_id))"
   ]
  },
  {
   "cell_type": "code",
   "execution_count": 78,
   "id": "a9477650",
   "metadata": {},
   "outputs": [],
   "source": [
    "histog_to_coord_test(nevent, mchits, total_size, steps = voxel_size, x0 = start_bin)"
   ]
  },
  {
   "cell_type": "code",
   "execution_count": 79,
   "id": "790c6793",
   "metadata": {},
   "outputs": [],
   "source": [
    "coords = histog_to_coord(particle_voxel, ener_voxel, percentage_voxel, reduced_bins)"
   ]
  },
  {
   "cell_type": "code",
   "execution_count": 80,
   "id": "17d6b027",
   "metadata": {
    "scrolled": true
   },
   "outputs": [],
   "source": [
    "#np.set_printoptions(suppress=True)\n",
    "#coords"
   ]
  },
  {
   "cell_type": "code",
   "execution_count": 81,
   "id": "ca318379",
   "metadata": {
    "scrolled": true
   },
   "outputs": [
    {
     "data": {
      "text/plain": [
       "(array([-70., -70., -70., -70., -70., -65., -65., -65., -65., -65., -65.,\n",
       "        -65., -65., -60., -60., -60., -60., -60., -60., -60., -60., -55.,\n",
       "        -55., -55., -55., -55., -50., -50., -45., -45., -40., -40., -40.,\n",
       "        -35., -35., -35., -30., -25., -20., -20., -20., -20., -20., -20.,\n",
       "        -20., -15., -15., -15.,  -5.,  -5.]),\n",
       " array([160., 160., 160., 165., 165., 160., 160., 160., 160., 165., 165.,\n",
       "        165., 165., 160., 165., 165., 170., 175., 180., 180., 185., 160.,\n",
       "        160., 185., 185., 190., 155., 160., 155., 155., 150., 150., 155.,\n",
       "        140., 140., 145., 140., 140., 130., 135., 135., 140., 140., 140.,\n",
       "        140., 130., 130., 135., 125., 130.]),\n",
       " array([290., 295., 300., 285., 290., 285., 290., 300., 305., 285., 290.,\n",
       "        305., 310., 285., 285., 310., 310., 315., 310., 315., 310., 280.,\n",
       "        285., 305., 310., 305., 275., 280., 270., 275., 265., 270., 270.,\n",
       "        260., 265., 265., 265., 265., 275., 280., 285., 265., 270., 275.,\n",
       "        280., 275., 280., 280., 305., 300.]),\n",
       " array([0.02757102, 0.03041606, 0.01113274, 0.18499449, 0.01001854,\n",
       "        0.02546371, 0.01011337, 0.03580589, 0.02091044, 0.06777012,\n",
       "        0.02114796, 0.00341308, 0.02494408, 0.03238729, 0.02700981,\n",
       "        0.00597365, 0.02235901, 0.0534609 , 0.02804544, 0.03885779,\n",
       "        0.02078804, 0.02177641, 0.00365888, 0.00376001, 0.01166962,\n",
       "        0.0077096 , 0.00605078, 0.09342885, 0.01704196, 0.03016995,\n",
       "        0.00556669, 0.02359172, 0.00608357, 0.01307301, 0.03536161,\n",
       "        0.06616447, 0.05069043, 0.03160696, 0.33058336, 0.07212696,\n",
       "        0.03795532, 0.01280634, 0.03215831, 0.03855471, 0.01732503,\n",
       "        0.00851562, 0.01351113, 0.0032323 , 0.04262745, 0.0297813 ]),\n",
       " array([1.        , 1.        , 1.        , 1.        , 1.        ,\n",
       "        1.        , 1.        , 1.        , 1.        , 0.96204976,\n",
       "        1.        , 1.        , 1.        , 1.        , 0.94511948,\n",
       "        1.        , 1.        , 1.        , 1.        , 1.        ,\n",
       "        1.        , 1.        , 1.        , 1.        , 1.        ,\n",
       "        1.        , 1.        , 1.        , 1.        , 1.        ,\n",
       "        1.        , 1.        , 1.        , 1.        , 1.        ,\n",
       "        1.        , 1.        , 0.68520158, 0.64733517, 1.        ,\n",
       "        1.        , 1.        , 1.        , 1.        , 1.        ,\n",
       "        1.        , 1.        , 1.        , 0.88799001, 0.83967456]),\n",
       " array([10., 10., 10., 21., 21., 10., 10., 10., 10., 21., 21., 10., 10.,\n",
       "        10., 21., 10., 10., 10., 10., 10., 10., 10., 10., 10., 10., 10.,\n",
       "        10., 10., 10., 10., 10., 10., 10., 10., 10., 10., 10., 10., 10.,\n",
       "        10., 10., 10., 10., 10., 10., 10., 10., 10., 25., 27.]))"
      ]
     },
     "execution_count": 81,
     "metadata": {},
     "output_type": "execute_result"
    }
   ],
   "source": [
    "coords[:, 0], coords[:, 1], coords[:, 2], coords[:, 3], coords[:, 4], coords[:, 5]"
   ]
  },
  {
   "cell_type": "markdown",
   "id": "a99e31b2",
   "metadata": {},
   "source": [
    "## Supongo que las funciones de test las tengo que meter en el archivo equivalente_test.py y luego en el archivo conftest.py meter cosas como el archivo a probar, o las variables iniciales tipo nevent tal"
   ]
  },
  {
   "cell_type": "markdown",
   "id": "5e64f677",
   "metadata": {},
   "source": [
    "## Estructura\n",
    "- Primero con un total_size (del detector) y un voxel_size hacer el detector_frame con la función container_creator\n",
    "- Luego con detector_frame, voxel_size y un x0 en la función bin_creator extraer detector_bins\n",
    "- POR CADA EVENTO, tras obtener los datos importantes del evento con get_mchits_info utilizamos las mccoors, los detector_bins y un loose (parámetro de holgadura para los voxeles a mayores que necesitamos), creamos el reduced_frame con sus respectivos reduced_bins por cada evento.\n",
    "- Entonces basándome en esto, voy a quitar creo las variables steps y x0 de las funciones de labelling y mcimg y e introducir la variable bins directamente, en lugar de calcular cada vez los bins"
   ]
  },
  {
   "cell_type": "markdown",
   "id": "93e10ae3",
   "metadata": {},
   "source": [
    "### Un poco la estructura del repositorio"
   ]
  },
  {
   "cell_type": "raw",
   "id": "5b34f728",
   "metadata": {},
   "source": [
    " FUNCIONES REQUERIDAS                         ---> FUNCIONES TARGET\n",
    "\n",
    "\n",
    "container_creator (histogram_utils)                    ---> bin_creator (histogram_utils)\n",
    "\n",
    "bins_creator + get_mchits_info (data_io)             ---> mcimg (histogram_utils)\n",
    "\n",
    "container_creator + get_mchits_info + mcimg ---> labelling (labelling)\n",
    "\n",
    "labelling                                    ---> histog_to_coord (data_io)\n",
    "\n",
    "\n",
    "\n",
    "\n",
    "plot_3d_histo_hits (plot_utils), plot_3d_histo_vox (plot_utils)"
   ]
  },
  {
   "cell_type": "markdown",
   "id": "24a20c81",
   "metadata": {},
   "source": [
    "Tambien tener en cuenta que algunas funciones son requeridas para obtener el input de otra, y otras son requeridas porque en el interior de las funciones target se usan (es el caso de bins, que está dentro de mcimg, y el del propio mcimg que está dentro de labelling)"
   ]
  },
  {
   "cell_type": "markdown",
   "id": "73ae80f3",
   "metadata": {},
   "source": [
    "En general todo son utils para la función labelling... que es como el objetivo final"
   ]
  },
  {
   "cell_type": "markdown",
   "id": "61d39479",
   "metadata": {},
   "source": [
    "El otro objetivo final sería obtener los labels de segmentación para usarlos con dicha función :)"
   ]
  },
  {
   "cell_type": "code",
   "execution_count": null,
   "id": "35049581",
   "metadata": {},
   "outputs": [],
   "source": []
  }
 ],
 "metadata": {
  "kernelspec": {
   "display_name": "Python 3 (ipykernel)",
   "language": "python",
   "name": "python3"
  },
  "language_info": {
   "codemirror_mode": {
    "name": "ipython",
    "version": 3
   },
   "file_extension": ".py",
   "mimetype": "text/x-python",
   "name": "python",
   "nbconvert_exporter": "python",
   "pygments_lexer": "ipython3",
   "version": "3.7.11"
  }
 },
 "nbformat": 4,
 "nbformat_minor": 5
}
